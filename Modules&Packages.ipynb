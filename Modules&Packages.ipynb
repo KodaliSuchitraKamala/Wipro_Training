{
  "nbformat": 4,
  "nbformat_minor": 0,
  "metadata": {
    "colab": {
      "provenance": [],
      "authorship_tag": "ABX9TyMb15x7Ym2/aLrrsqxYdROf",
      "include_colab_link": true
    },
    "kernelspec": {
      "name": "python3",
      "display_name": "Python 3"
    },
    "language_info": {
      "name": "python"
    }
  },
  "cells": [
    {
      "cell_type": "markdown",
      "metadata": {
        "id": "view-in-github",
        "colab_type": "text"
      },
      "source": [
        "<a href=\"https://colab.research.google.com/github/KodaliSuchitraKamala/Wipro_Training/blob/main/Modules%26Packages.ipynb\" target=\"_parent\"><img src=\"https://colab.research.google.com/assets/colab-badge.svg\" alt=\"Open In Colab\"/></a>"
      ]
    },
    {
      "cell_type": "markdown",
      "source": [
        "## Modules\n",
        " - math\n",
        " - random\n",
        " - datetime\n",
        " - calendar\n",
        " - json\n",
        "   *normalize the data/serializing\n",
        " - .csv\n",
        " - sqlite3\n",
        " - os module\n",
        " - collections\n",
        " - regex\n",
        " - itertools\n",
        "\n",
        "## common math functions\n",
        " - sqrt\n",
        " - factorial\n",
        " - pow\n",
        " - floor\n",
        " - ceil\n",
        " - pi\n",
        "\n",
        "## random\n",
        " - randint(x,y) - for integer\n",
        " - random\n",
        " - uniform(x, y) - for floating\n",
        " - choice\n",
        " - shuffle - [1, 2, 3, 4, 5] for this list it produce 120 samples\n",
        " - seed\n",
        " - random.sample - [1, 2, 2, 3, 4, 2, 2, 4, 5] for this list\n",
        "\n",
        "# datetime\n",
        " - datetime.now() - only fetch datetime of machine not cloud based time\n",
        " - datetime.strptime() - it convert string object to epoch time\n",
        " - datetime.strftime()\n",
        " - timedelta\n",
        " - date.today()\n",
        " - datetime.date\n",
        " - %I = 0 - 12\n",
        " - %p = AM/PM\n",
        " - %H = 0 - 23.59.59.00000\n",
        "\n",
        "## unions\n",
        "int - 8\n",
        "float - 16\n",
        "char - len(char)/1\n",
        "\n",
        "\n",
        "LVA - Latest Value Accumulation"
      ],
      "metadata": {
        "id": "GTyWQbMqlooG"
      }
    },
    {
      "cell_type": "code",
      "execution_count": null,
      "metadata": {
        "colab": {
          "base_uri": "https://localhost:8080/"
        },
        "id": "b13DtbHVln7C",
        "outputId": "471ddf00-0d78-47ac-8a47-ecc8e104301c"
      },
      "outputs": [
        {
          "output_type": "stream",
          "name": "stdout",
          "text": [
            "enter the number: 5\n",
            "Square root: 2.23606797749979\n",
            "Factorial 120\n",
            "Pi Value 3.141592653589793\n",
            "Pi operation 6.283185307179586\n"
          ]
        }
      ],
      "source": [
        "import math\n",
        "num = int(input(\"enter the number: \"))\n",
        "print(\"Square root:\", math.sqrt(num))\n",
        "print(\"Factorial\", math.factorial(num))\n",
        "print(\"Pi Value\", math.pi)\n",
        "print(\"Pi operation\", math.pi * 2)"
      ]
    },
    {
      "cell_type": "code",
      "source": [
        "# random - generate numbers, random choices\n",
        "# randint - it have one possibility sample in given range in integer\n",
        "import random\n",
        "# from random import randint\n",
        "print(\"Random number from 10 to 50\", random.randint(10, 50))\n",
        "# random.random - dynamically used\n",
        "print(\"Random number from 0 to 1\", random.random())\n",
        "# for floating random number (uniform)\n",
        "print(\"Random number from 1.5 to 5.5\", random.uniform(1.5, 5.5))\n",
        "# choice\n",
        "fruits = ['banana', 'apple', 'orange', 'mango']\n",
        "print(\"Random choice from list\", random.choice(fruits))\n",
        "print(\"Random choice from list\", random.choices(fruits))\n",
        "# Shuffle\n",
        "numbers = [1, 2, 3, 4, 5]\n",
        "random.shuffle(numbers)\n",
        "print(\"Shuffled List \", numbers)\n",
        "# seed\n",
        "random.seed(96)\n",
        "print(random.randint(1, 100))"
      ],
      "metadata": {
        "colab": {
          "base_uri": "https://localhost:8080/"
        },
        "id": "unyFBLOu6Xa9",
        "outputId": "ac11078c-beb1-49b7-8fc3-1ef63ffd8b08"
      },
      "execution_count": null,
      "outputs": [
        {
          "output_type": "stream",
          "name": "stdout",
          "text": [
            "Random number from 10 to 50 36\n",
            "Random number from 0 to 1 0.23486704358438526\n",
            "Random number from 1.5 to 5.5 2.9312611875414136\n",
            "Random choice from list mango\n",
            "Random choice from list ['orange']\n",
            "Shuffled List  [1, 5, 2, 4, 3]\n",
            "48\n"
          ]
        }
      ]
    },
    {
      "cell_type": "code",
      "source": [
        "import time\n",
        "epoch = time.time()\n",
        "print(epoch)"
      ],
      "metadata": {
        "colab": {
          "base_uri": "https://localhost:8080/"
        },
        "id": "wD9MarNt6czO",
        "outputId": "a9cc48e1-89a2-49b8-aab6-27c231026fc1"
      },
      "execution_count": null,
      "outputs": [
        {
          "output_type": "stream",
          "name": "stdout",
          "text": [
            "1754475919.26765\n"
          ]
        }
      ]
    },
    {
      "cell_type": "code",
      "source": [
        "import calendar\n",
        "year = int(input(\"Enter a year number: \"))\n",
        "print(calendar.calendar(year))"
      ],
      "metadata": {
        "colab": {
          "base_uri": "https://localhost:8080/"
        },
        "id": "vhllFAex6fQF",
        "outputId": "b4c6b87f-48eb-424b-e2c9-ef902f6b3456"
      },
      "execution_count": null,
      "outputs": [
        {
          "output_type": "stream",
          "name": "stdout",
          "text": [
            "Enter a year number: 2005\n",
            "                                  2005\n",
            "\n",
            "      January                   February                   March\n",
            "Mo Tu We Th Fr Sa Su      Mo Tu We Th Fr Sa Su      Mo Tu We Th Fr Sa Su\n",
            "                1  2          1  2  3  4  5  6          1  2  3  4  5  6\n",
            " 3  4  5  6  7  8  9       7  8  9 10 11 12 13       7  8  9 10 11 12 13\n",
            "10 11 12 13 14 15 16      14 15 16 17 18 19 20      14 15 16 17 18 19 20\n",
            "17 18 19 20 21 22 23      21 22 23 24 25 26 27      21 22 23 24 25 26 27\n",
            "24 25 26 27 28 29 30      28                        28 29 30 31\n",
            "31\n",
            "\n",
            "       April                      May                       June\n",
            "Mo Tu We Th Fr Sa Su      Mo Tu We Th Fr Sa Su      Mo Tu We Th Fr Sa Su\n",
            "             1  2  3                         1             1  2  3  4  5\n",
            " 4  5  6  7  8  9 10       2  3  4  5  6  7  8       6  7  8  9 10 11 12\n",
            "11 12 13 14 15 16 17       9 10 11 12 13 14 15      13 14 15 16 17 18 19\n",
            "18 19 20 21 22 23 24      16 17 18 19 20 21 22      20 21 22 23 24 25 26\n",
            "25 26 27 28 29 30         23 24 25 26 27 28 29      27 28 29 30\n",
            "                          30 31\n",
            "\n",
            "        July                     August                  September\n",
            "Mo Tu We Th Fr Sa Su      Mo Tu We Th Fr Sa Su      Mo Tu We Th Fr Sa Su\n",
            "             1  2  3       1  2  3  4  5  6  7                1  2  3  4\n",
            " 4  5  6  7  8  9 10       8  9 10 11 12 13 14       5  6  7  8  9 10 11\n",
            "11 12 13 14 15 16 17      15 16 17 18 19 20 21      12 13 14 15 16 17 18\n",
            "18 19 20 21 22 23 24      22 23 24 25 26 27 28      19 20 21 22 23 24 25\n",
            "25 26 27 28 29 30 31      29 30 31                  26 27 28 29 30\n",
            "\n",
            "      October                   November                  December\n",
            "Mo Tu We Th Fr Sa Su      Mo Tu We Th Fr Sa Su      Mo Tu We Th Fr Sa Su\n",
            "                1  2          1  2  3  4  5  6                1  2  3  4\n",
            " 3  4  5  6  7  8  9       7  8  9 10 11 12 13       5  6  7  8  9 10 11\n",
            "10 11 12 13 14 15 16      14 15 16 17 18 19 20      12 13 14 15 16 17 18\n",
            "17 18 19 20 21 22 23      21 22 23 24 25 26 27      19 20 21 22 23 24 25\n",
            "24 25 26 27 28 29 30      28 29 30                  26 27 28 29 30 31\n",
            "31\n",
            "\n"
          ]
        }
      ]
    },
    {
      "cell_type": "code",
      "source": [
        "from calendar import *\n",
        "Year = int(input(\"Enter a year number: \"))\n",
        "Month = int(input(\"Enter a Month number: \"))\n",
        "str = month(Year, Month)\n",
        "print(str)"
      ],
      "metadata": {
        "colab": {
          "base_uri": "https://localhost:8080/"
        },
        "id": "arBAaD9P6hy6",
        "outputId": "fe25b665-eefe-493f-81a4-9065bb441aa3"
      },
      "execution_count": null,
      "outputs": [
        {
          "output_type": "stream",
          "name": "stdout",
          "text": [
            "Enter a year number: 2005\n",
            "Enter a Month number: 1\n",
            "    January 2005\n",
            "Mo Tu We Th Fr Sa Su\n",
            "                1  2\n",
            " 3  4  5  6  7  8  9\n",
            "10 11 12 13 14 15 16\n",
            "17 18 19 20 21 22 23\n",
            "24 25 26 27 28 29 30\n",
            "31\n",
            "\n"
          ]
        }
      ]
    },
    {
      "cell_type": "code",
      "source": [
        "''' program to print the next 10 day dates continuously '''\n",
        "from datetime import *\n",
        "d = date.today()\n",
        "print(d)\n",
        "for x in range(1, 10):\n",
        "    nextdate = d + timedelta(days = x)\n",
        "    print(nextdate)"
      ],
      "metadata": {
        "colab": {
          "base_uri": "https://localhost:8080/"
        },
        "id": "anUgaDBb6lGl",
        "outputId": "64a89aa0-6101-4673-8d69-cf43c32a0f5a"
      },
      "execution_count": null,
      "outputs": [
        {
          "output_type": "stream",
          "name": "stdout",
          "text": [
            "2025-08-06\n",
            "2025-08-07\n",
            "2025-08-08\n",
            "2025-08-09\n",
            "2025-08-10\n",
            "2025-08-11\n",
            "2025-08-12\n",
            "2025-08-13\n",
            "2025-08-14\n",
            "2025-08-15\n"
          ]
        }
      ]
    },
    {
      "cell_type": "code",
      "source": [
        "from calendar import *\n",
        "year = int(input(\"Enter a year number: \"))\n",
        "if isleap(year):\n",
        "    print(year, \" is leap year\")\n",
        "else:\n",
        "    print(year, \" is not a leap year\")"
      ],
      "metadata": {
        "colab": {
          "base_uri": "https://localhost:8080/"
        },
        "id": "ssO3n8qc6pgp",
        "outputId": "43bf13cc-5819-46b0-a310-e4dd95a75b7a"
      },
      "execution_count": null,
      "outputs": [
        {
          "output_type": "stream",
          "name": "stdout",
          "text": [
            "Enter a year number: 2025\n",
            "2025  is not a leap year\n"
          ]
        }
      ]
    },
    {
      "cell_type": "code",
      "source": [
        "from datetime import datetime, date, timedelta\n",
        "# current time and date\n",
        "now = datetime.now()\n",
        "print(\"Current Datetime\", now)\n",
        "# only date\n",
        "print(\"Todays date\", date.today()) # it gives us in the format of US\n",
        "# fromatted datetime of India\n",
        "formatted = now.strftime(\"%d-%m-%Y %H:%M:%S\")\n",
        "print(\"Formatted datetime\", formatted)\n",
        "formatted = now.strftime(\"%d-%m-%y %H:%M:%S\")\n",
        "print(\"Formatted datetime\", formatted)\n",
        "# parsed datetime\n",
        "date_str = \"24-12-2000 14:55:00\"\n",
        "parsed = datetime.strptime(date_str, \"%d-%m-%Y %H:%M:%S\")\n",
        "print(\"Parsed data: \", parsed)\n",
        "# timedelta\n",
        "tommorow = now + timedelta(days = 1)\n",
        "print(\"Tommorow: \", tommorow)\n",
        "yesturday = now - timedelta(days = 1)\n",
        "print(\"Yesturday: \", yesturday)\n",
        "ftime = now + timedelta(hours = 3, minutes = 30)\n",
        "print(\"After 3.5 hours: \", ftime)\n",
        "now = datetime.now()\n",
        "format_12hr = now.strftime(\"%d/%m/%Y, %I:%M:%S %p\")\n",
        "print(format_12hr)"
      ],
      "metadata": {
        "colab": {
          "base_uri": "https://localhost:8080/"
        },
        "id": "0KJqqOLr6rui",
        "outputId": "0d8022b1-0086-448b-abd9-727a2f45ae81"
      },
      "execution_count": null,
      "outputs": [
        {
          "output_type": "stream",
          "name": "stdout",
          "text": [
            "Current Datetime 2025-08-06 10:26:34.680739\n",
            "Todays date 2025-08-06\n",
            "Formatted datetime 06-08-2025 10:26:34\n",
            "Formatted datetime 06-08-25 10:26:34\n",
            "Parsed data:  2000-12-24 14:55:00\n",
            "Tommorow:  2025-08-07 10:26:34.680739\n",
            "Yesturday:  2025-08-05 10:26:34.680739\n",
            "After 3.5 hours:  2025-08-06 13:56:34.680739\n",
            "06/08/2025, 10:26:34 AM\n"
          ]
        }
      ]
    },
    {
      "cell_type": "code",
      "source": [
        "# json module\n",
        "import json\n",
        "name = input(\"Enter your name: \")\n",
        "age = int(input(\"Enter your age: \"))\n",
        "data = {\"name\": name, \"age\": age}\n",
        "stringify_json = json.dumps(data) # dumps the data in same page\n",
        "print(\"Serialised data of Json \", stringify_json)"
      ],
      "metadata": {
        "colab": {
          "base_uri": "https://localhost:8080/"
        },
        "id": "dIU60a0M6xqQ",
        "outputId": "94fc1f93-18d9-4365-96bb-c414688f5edf"
      },
      "execution_count": null,
      "outputs": [
        {
          "output_type": "stream",
          "name": "stdout",
          "text": [
            "Enter your name: Suchitra \n",
            "Enter your age: 20\n",
            "Serialised data of Json  {\"name\": \"Suchitra \", \"age\": 20}\n"
          ]
        }
      ]
    },
    {
      "cell_type": "code",
      "source": [
        "import json\n",
        "name = input(\"Enter the name: \")\n",
        "age = int(input(\"Enter age: \"))\n",
        "user = {\"name\": name, \"age\": age}\n",
        "with open(\"user.json\", 'w') as f: # f means file\n",
        "    json.dump(user, f) # dump the data from the outside page\n",
        "print(\"Data Written to Json Floder \")\n",
        "with open(\"user.json\", 'r') as f:\n",
        "    loaded = json.load(f) # retriving the data from the json\n",
        "    print(\"Read from file \", loaded)"
      ],
      "metadata": {
        "colab": {
          "base_uri": "https://localhost:8080/"
        },
        "id": "VH_6fhEx60Ad",
        "outputId": "36e4b515-01ea-477a-ed8d-a692a1dfe469"
      },
      "execution_count": null,
      "outputs": [
        {
          "output_type": "stream",
          "name": "stdout",
          "text": [
            "Enter the name: Suchitra\n",
            "Enter age: 20\n",
            "Data Written to Json Floder \n",
            "Read from file  {'name': 'Suchitra', 'age': 20}\n"
          ]
        }
      ]
    },
    {
      "cell_type": "code",
      "source": [
        "import csv\n",
        "with open(\"people.csv\", \"w\", newline = \"\") as file:\n",
        "    writer = csv.writer(file)\n",
        "    writer.writerow([\"name\", \"age\"])\n",
        "    for _ in range(2): # \"_\" this is used for taking empty bucket in for loop\n",
        "        name = input(\"Enter name: \")\n",
        "        age = int(input(\"Enter age: \"))\n",
        "        writer.writerow([name, age]) # write the data in the csv file\n",
        "print(\"Data written on csv file\")"
      ],
      "metadata": {
        "colab": {
          "base_uri": "https://localhost:8080/"
        },
        "id": "MAPJawSI64RA",
        "outputId": "9e0d6d73-889f-40fc-82a7-4fc146d4344c"
      },
      "execution_count": null,
      "outputs": [
        {
          "output_type": "stream",
          "name": "stdout",
          "text": [
            "Enter name: Suchitra\n",
            "Enter age: 20\n",
            "Enter name: Roopa\n",
            "Enter age: 21\n",
            "Data written on csv file\n"
          ]
        }
      ]
    },
    {
      "cell_type": "code",
      "source": [
        "import csv\n",
        "with open(\"people.csv\", \"r\") as file:\n",
        "    reader = csv.reader(file)\n",
        "    for row in reader:\n",
        "        print(row)"
      ],
      "metadata": {
        "colab": {
          "base_uri": "https://localhost:8080/"
        },
        "id": "ogRQKEwb68R0",
        "outputId": "3860faf0-ee82-495b-c938-8edb9578a58d"
      },
      "execution_count": null,
      "outputs": [
        {
          "output_type": "stream",
          "name": "stdout",
          "text": [
            "['name', 'age']\n",
            "['Suchitra', '20']\n",
            "['Roopa', '21']\n"
          ]
        }
      ]
    },
    {
      "cell_type": "code",
      "source": [
        "import os\n",
        "folder = \"Wipro_Practice\"\n",
        "if not os.path.exists(folder):\n",
        "    os.mkdir(folder)\n",
        "    print(f\"Folder '{folder}' created.\")\n",
        "else:\n",
        "    print(f\"Folder '{folder}' already exists.\")"
      ],
      "metadata": {
        "colab": {
          "base_uri": "https://localhost:8080/"
        },
        "id": "bC4SIrow7DXo",
        "outputId": "695af5bd-50c6-4cac-c3e4-ac727868bc94"
      },
      "execution_count": null,
      "outputs": [
        {
          "output_type": "stream",
          "name": "stdout",
          "text": [
            "Folder 'Wipro_Practice' created.\n"
          ]
        }
      ]
    },
    {
      "cell_type": "code",
      "source": [
        "import os\n",
        "file = \"new_file.txt\"\n",
        "if os .path.exists(file):\n",
        "    os.remove(file)\n",
        "    print(f\"{file} deleted.\")\n",
        "else:\n",
        "    print(f\"{file} not found.\")"
      ],
      "metadata": {
        "colab": {
          "base_uri": "https://localhost:8080/"
        },
        "id": "OksRasAQ7FZr",
        "outputId": "50bd419d-289b-49b4-d306-b2ff2575c74c"
      },
      "execution_count": null,
      "outputs": [
        {
          "output_type": "stream",
          "name": "stdout",
          "text": [
            "new_file.txt not found.\n"
          ]
        }
      ]
    },
    {
      "cell_type": "code",
      "source": [
        "import os\n",
        "file = \"sysmodule.txt\"\n",
        "if os.path.exists(file):\n",
        "    size = os.path.getsize(file)\n",
        "    print(f\"{file} size: {size} bytes.\")\n",
        "else:\n",
        "    print(\"file not found.\")"
      ],
      "metadata": {
        "colab": {
          "base_uri": "https://localhost:8080/"
        },
        "id": "R6m2_Vsq7HX8",
        "outputId": "44a9cea4-ce5d-4c6d-d480-b1b4f6c62c98"
      },
      "execution_count": null,
      "outputs": [
        {
          "output_type": "stream",
          "name": "stdout",
          "text": [
            "file not found.\n"
          ]
        }
      ]
    },
    {
      "cell_type": "code",
      "source": [
        "import os\n",
        "folder = input(\"Enter folder name to create: \")\n",
        "if not os.path.exists(folder):\n",
        "    os.mkdir(folder)\n",
        "    print(f\"Folder '{folder}' created\")\n",
        "else:\n",
        "    print(\"Folder already exists\")"
      ],
      "metadata": {
        "colab": {
          "base_uri": "https://localhost:8080/"
        },
        "id": "1gl2y7hd7KXX",
        "outputId": "835262b9-c8cf-458b-8658-1a4939a2ecc4"
      },
      "execution_count": null,
      "outputs": [
        {
          "output_type": "stream",
          "name": "stdout",
          "text": [
            "Enter folder name to create: Wipro_Practices\n",
            "Folder 'Wipro_Practices' created\n"
          ]
        }
      ]
    },
    {
      "cell_type": "code",
      "source": [
        "import os\n",
        "path = \".\"\n",
        "files = os.listdir(path)\n",
        "print(\"Files and folders in current directory: \")\n",
        "for i in files:\n",
        "    print(i)"
      ],
      "metadata": {
        "colab": {
          "base_uri": "https://localhost:8080/"
        },
        "id": "p7U4xvLb7NOg",
        "outputId": "b2ecffa5-5407-487e-a9b2-d3cfcb1ae86c"
      },
      "execution_count": null,
      "outputs": [
        {
          "output_type": "stream",
          "name": "stdout",
          "text": [
            "Files and folders in current directory: \n",
            ".config\n",
            "people.csv\n",
            "Wipro_Practice\n",
            "user.json\n",
            "Wipro_Practices\n",
            "sample_data\n"
          ]
        }
      ]
    },
    {
      "cell_type": "code",
      "source": [
        "import itertools\n",
        "data = input(\"Enter Characters: \")\n",
        "permute = list(itertools.permutations(data))\n",
        "print(\"All permutations\")\n",
        "for p in permute:\n",
        "    print(\" \".join(p))"
      ],
      "metadata": {
        "colab": {
          "base_uri": "https://localhost:8080/"
        },
        "id": "8qPUMhKR7U4m",
        "outputId": "88e821ad-f973-4624-95df-c9b0fcda37ab"
      },
      "execution_count": null,
      "outputs": [
        {
          "output_type": "stream",
          "name": "stdout",
          "text": [
            "Enter Characters: abc\n",
            "All permutations\n",
            "a b c\n",
            "a c b\n",
            "b a c\n",
            "b c a\n",
            "c a b\n",
            "c b a\n"
          ]
        }
      ]
    },
    {
      "cell_type": "code",
      "source": [
        "''' Write a program which infinitly prints natural numbers.\n",
        "Raise a StopIteration exception after displaying first 20 numbers to exceed the program\n",
        "'''\n",
        "def display(n):\n",
        "    while True:\n",
        "        try:\n",
        "            n += 1\n",
        "            if n == 21:\n",
        "                raise StopIteration\n",
        "        except StopIteration:\n",
        "            break\n",
        "        else:\n",
        "            print(n, end = ' ')\n",
        "i = 0\n",
        "display(i)"
      ],
      "metadata": {
        "colab": {
          "base_uri": "https://localhost:8080/"
        },
        "id": "bBSca2J57XJG",
        "outputId": "a0ee88a2-16a7-445f-bae8-e92936578936"
      },
      "execution_count": null,
      "outputs": [
        {
          "output_type": "stream",
          "name": "stdout",
          "text": [
            "1 2 3 4 5 6 7 8 9 10 11 12 13 14 15 16 17 18 19 20 "
          ]
        }
      ]
    },
    {
      "cell_type": "code",
      "source": [
        "from collections import Counter\n",
        "text = input(\"Enter a Text: \")\n",
        "counter = Counter(text)\n",
        "print(\"Characters frequencies: \",  dict(counter))"
      ],
      "metadata": {
        "colab": {
          "base_uri": "https://localhost:8080/"
        },
        "id": "piW7wYdx7Z1l",
        "outputId": "690e749b-2360-4fe6-e979-49cd2744507d"
      },
      "execution_count": null,
      "outputs": [
        {
          "output_type": "stream",
          "name": "stdout",
          "text": [
            "Enter a Text: Suchitra kamala\n",
            "Characters frequencies:  {'S': 1, 'u': 1, 'c': 1, 'h': 1, 'i': 1, 't': 1, 'r': 1, 'a': 4, ' ': 1, 'k': 1, 'm': 1, 'l': 1}\n"
          ]
        }
      ]
    },
    {
      "cell_type": "code",
      "source": [
        "import sys\n",
        "if len(sys.argv) < 2:\n",
        "    print(\"Usage: py hi.py <name>\")\n",
        "else:\n",
        "    name = sys.argv[1]\n",
        "    print(f\"Student, {name}!\")"
      ],
      "metadata": {
        "colab": {
          "base_uri": "https://localhost:8080/"
        },
        "id": "uQW4Qu3W7ckx",
        "outputId": "93179f44-f949-422b-8b02-c40ee33ab3b5"
      },
      "execution_count": null,
      "outputs": [
        {
          "output_type": "stream",
          "name": "stdout",
          "text": [
            "Student, -f!\n"
          ]
        }
      ]
    },
    {
      "cell_type": "code",
      "source": [
        "import sys\n",
        "if len(sys.argv) < 3:\n",
        "    print(\"Usage: This script expects two numerical arguments if run as a standalone script.\")\n",
        "    print(\"In Colab, sys.argv may contain different values.\")\n",
        "    print(\"Current sys.argv:\", sys.argv)\n",
        "else:\n",
        "    try:\n",
        "        l = float(sys.argv[1])\n",
        "        b = float(sys.argv[2])\n",
        "        print(\"Calculated area: \", l * b)\n",
        "    except ValueError:\n",
        "        print(\"Error: The provided arguments could not be converted to numbers.\")\n",
        "        print(\"Current sys.argv:\", sys.argv)"
      ],
      "metadata": {
        "colab": {
          "base_uri": "https://localhost:8080/"
        },
        "id": "pjrSS_6p7hFS",
        "outputId": "8a015c34-7d51-424e-d8b3-9e2a0db2e22f"
      },
      "execution_count": null,
      "outputs": [
        {
          "output_type": "stream",
          "name": "stdout",
          "text": [
            "Error: The provided arguments could not be converted to numbers.\n",
            "Current sys.argv: ['/usr/local/lib/python3.11/dist-packages/colab_kernel_launcher.py', '-f', '/root/.local/share/jupyter/runtime/kernel-01fedf97-2559-4875-a5f7-7c69499a9a65.json']\n"
          ]
        }
      ]
    },
    {
      "cell_type": "code",
      "source": [
        "import sys\n",
        "if len(sys.argv) < 3:\n",
        "    print(\"Usage: This script expects two numerical arguments if run as a standalone script.\")\n",
        "    print(\"In Colab, sys.argv may contain different values.\")\n",
        "    print(\"Current sys.argv:\", sys.argv)\n",
        "else:\n",
        "    try:\n",
        "        num1_str = sys.argv[1]\n",
        "        num2_str = sys.argv[2]\n",
        "        print(\"Concatenation: \", num1_str + num2_str)\n",
        "\n",
        "        num1 = int(sys.argv[1])\n",
        "        num2 = int(sys.argv[2])\n",
        "        print(\"Sum: \", num1 + num2)\n",
        "        print(\"Multiplication: \", num1 * num2)\n",
        "    except ValueError:\n",
        "        print(\"Error: The provided arguments could not be converted to integers.\")\n",
        "        print(\"Current sys.argv:\", sys.argv)"
      ],
      "metadata": {
        "colab": {
          "base_uri": "https://localhost:8080/"
        },
        "id": "2c4YTV1I7lDW",
        "outputId": "ccce681e-389a-4a53-e14b-7be51a0fdd48"
      },
      "execution_count": null,
      "outputs": [
        {
          "output_type": "stream",
          "name": "stdout",
          "text": [
            "Concatenation:  -f/root/.local/share/jupyter/runtime/kernel-01fedf97-2559-4875-a5f7-7c69499a9a65.json\n",
            "Error: The provided arguments could not be converted to integers.\n",
            "Current sys.argv: ['/usr/local/lib/python3.11/dist-packages/colab_kernel_launcher.py', '-f', '/root/.local/share/jupyter/runtime/kernel-01fedf97-2559-4875-a5f7-7c69499a9a65.json']\n"
          ]
        }
      ]
    },
    {
      "cell_type": "code",
      "source": [
        "import sys\n",
        "print(\"Script name: \", sys.argv[0])\n",
        "print(\"All args: \", sys.argv[1:])\n",
        "print(\"Number of items: \", len(sys.argv))\n",
        "print(\"Including file name: \", sys.argv)\n",
        "if len(sys.argv) > 1:\n",
        "    print(\"First argv: \", sys.argv[1])\n",
        "else:\n",
        "    print(\"No agruments provided\")"
      ],
      "metadata": {
        "colab": {
          "base_uri": "https://localhost:8080/"
        },
        "id": "BDRDvQVN7nMc",
        "outputId": "8f7c19f8-40da-4df0-a4a3-a6b47e5b2cbd"
      },
      "execution_count": null,
      "outputs": [
        {
          "output_type": "stream",
          "name": "stdout",
          "text": [
            "Script name:  /usr/local/lib/python3.11/dist-packages/colab_kernel_launcher.py\n",
            "All args:  ['-f', '/root/.local/share/jupyter/runtime/kernel-01fedf97-2559-4875-a5f7-7c69499a9a65.json']\n",
            "Number of items:  3\n",
            "Including file name:  ['/usr/local/lib/python3.11/dist-packages/colab_kernel_launcher.py', '-f', '/root/.local/share/jupyter/runtime/kernel-01fedf97-2559-4875-a5f7-7c69499a9a65.json']\n",
            "First argv:  -f\n"
          ]
        }
      ]
    },
    {
      "cell_type": "code",
      "source": [
        "import sys\n",
        "if len(sys.argv) < 2 or sys.argv[1].startswith('-'):\n",
        "    print(\"Usage: Provide numerical arguments separated by spaces.\")\n",
        "    print(\"Current sys.argv:\", sys.argv)\n",
        "else:\n",
        "    start_index = 1\n",
        "    while start_index < len(sys.argv) and sys.argv[start_index].startswith('-'):\n",
        "        start_index += 1\n",
        "    if start_index >= len(sys.argv):\n",
        "        print(\"Usage: Provide numerical arguments separated by spaces.\")\n",
        "        print(\"No valid numerical arguments found.\")\n",
        "        print(\"Current sys.argv:\", sys.argv)\n",
        "    else:\n",
        "        try:\n",
        "            numbers = [int(arg) for arg in sys.argv[start_index:]]\n",
        "            total = sum(numbers)\n",
        "            print(\"Numbers: \", numbers)\n",
        "            print(\"Sum: \", total)\n",
        "        except ValueError:\n",
        "            print(\"Error: One or more provided arguments could not be converted to integers.\")\n",
        "            print(\"Please ensure all provided arguments are valid integers.\")\n",
        "            print(\"Current sys.argv:\", sys.argv)"
      ],
      "metadata": {
        "colab": {
          "base_uri": "https://localhost:8080/"
        },
        "id": "qCo3H0117pG1",
        "outputId": "b04deb7d-d47f-415c-ddc3-46f6c5e9a231"
      },
      "execution_count": null,
      "outputs": [
        {
          "output_type": "stream",
          "name": "stdout",
          "text": [
            "Usage: Provide numerical arguments separated by spaces.\n",
            "Current sys.argv: ['/usr/local/lib/python3.11/dist-packages/colab_kernel_launcher.py', '-f', '/root/.local/share/jupyter/runtime/kernel-01fedf97-2559-4875-a5f7-7c69499a9a65.json']\n"
          ]
        }
      ]
    },
    {
      "cell_type": "code",
      "source": [
        "for i in range(7):\n",
        "    for j in range(7):\n",
        "        if abs(i - j) == 3 or i + j == 3 or i + j == 9 or i == 6 or j == 6 or i == 0 or j == 0 or j == 5 and i != 3 and  j != 3 :\n",
        "            print(\"*\", end =' ')\n",
        "        elif i == 1 and i != 3 and  j != 3:\n",
        "            print(\"*\", end =' ')\n",
        "        elif  j == 1 and i != 3 and  j != 3 :\n",
        "            print(\"*\", end =' ')\n",
        "        else:\n",
        "            print(\" \", end = ' ')\n",
        "    print()"
      ],
      "metadata": {
        "colab": {
          "base_uri": "https://localhost:8080/"
        },
        "id": "xvffLGeI7q-n",
        "outputId": "40a8e41f-f76f-45ac-be7d-78a45c802ca1"
      },
      "execution_count": null,
      "outputs": [
        {
          "output_type": "stream",
          "name": "stdout",
          "text": [
            "* * * * * * * \n",
            "* * *   * * * \n",
            "* *       * * \n",
            "*           * \n",
            "* *       * * \n",
            "* * *   * * * \n",
            "* * * * * * * \n"
          ]
        }
      ]
    },
    {
      "cell_type": "markdown",
      "source": [
        "## Packages\n",
        " - Requests\n",
        "   1. Web api interaction\n",
        "   2. http get, put, post delete request\n",
        "   3. Handle json requests, status.....\n",
        "  "
      ],
      "metadata": {
        "id": "VKyieJmI8qQG"
      }
    },
    {
      "cell_type": "code",
      "source": [
        "import requests\n",
        "url = \"https://jsonplaceholder.typicode.com/posts\"\n",
        "data = {\n",
        "    \"title\" : \"Hi Students\",\n",
        "    \"body\" : \"Wipro Geeks\",\n",
        "    \"userID\" : 1\n",
        "}\n",
        "response = requests.post(url, json = data)\n",
        "print(\"Status Code: \", response.status_code)\n",
        "print(\"Reponse JSON: \",response.json())"
      ],
      "metadata": {
        "id": "AQRR7VBg7swM",
        "colab": {
          "base_uri": "https://localhost:8080/"
        },
        "outputId": "1484eda8-58b5-4bd9-fd3f-5bbf2a55e824"
      },
      "execution_count": 27,
      "outputs": [
        {
          "output_type": "stream",
          "name": "stdout",
          "text": [
            "Status Code:  201\n",
            "Reponse JSON:  {'title': 'Hi Students', 'body': 'Wipro Geeks', 'userID': 1, 'id': 101}\n"
          ]
        }
      ]
    },
    {
      "cell_type": "code",
      "source": [
        "import requests\n",
        "response = requests.get(\"https://jsonplaceholder.typicode.com/posts/1\")\n",
        "print(\"Status code: \", response.status_code)\n",
        "print(\"response JSON: \", response.json())"
      ],
      "metadata": {
        "colab": {
          "base_uri": "https://localhost:8080/"
        },
        "id": "04sUhVqk8s1C",
        "outputId": "7490e6e4-fe40-475c-ce53-c6c8395fdd0d"
      },
      "execution_count": 28,
      "outputs": [
        {
          "output_type": "stream",
          "name": "stdout",
          "text": [
            "Status code:  200\n",
            "response JSON:  {'userId': 1, 'id': 1, 'title': 'sunt aut facere repellat provident occaecati excepturi optio reprehenderit', 'body': 'quia et suscipit\\nsuscipit recusandae consequuntur expedita et cum\\nreprehenderit molestiae ut ut quas totam\\nnostrum rerum est autem sunt rem eveniet architecto'}\n"
          ]
        }
      ]
    },
    {
      "cell_type": "code",
      "source": [],
      "metadata": {
        "id": "5aEMw7E48udB"
      },
      "execution_count": null,
      "outputs": []
    }
  ]
}