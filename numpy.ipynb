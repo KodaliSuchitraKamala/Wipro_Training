{
  "nbformat": 4,
  "nbformat_minor": 0,
  "metadata": {
    "colab": {
      "provenance": [],
      "authorship_tag": "ABX9TyMnHrGW34x0P3mf/o/0TNpB",
      "include_colab_link": true
    },
    "kernelspec": {
      "name": "python3",
      "display_name": "Python 3"
    },
    "language_info": {
      "name": "python"
    }
  },
  "cells": [
    {
      "cell_type": "markdown",
      "metadata": {
        "id": "view-in-github",
        "colab_type": "text"
      },
      "source": [
        "<a href=\"https://colab.research.google.com/github/KodaliSuchitraKamala/Wipro_Training/blob/main/numpy.ipynb\" target=\"_parent\"><img src=\"https://colab.research.google.com/assets/colab-badge.svg\" alt=\"Open In Colab\"/></a>"
      ]
    },
    {
      "cell_type": "markdown",
      "source": [
        "## numpy\n",
        "\n",
        " uses:\n",
        "  1. matrices - coordinates, locations\n",
        "  2. math functions - stastics / algebra\n",
        " functions:\n",
        "  1. np.random.rand() - uniform random values\n",
        "  2. np.random.randn() - non-uniform random values\n",
        "  3. np.dot - multiplication (only on matrices)\n",
        "  4. np.arange() - random range of values\n",
        "  5. np.array() - create / delete / access\n",
        "  6. np.zeros() / ones() - creates an rentire array with 0 / 1\n",
        "  7. np.mean()\n",
        "  8. np.std()\n",
        "  9. np.unique()\n",
        "  10. np.linalg.inv()\n",
        "  11. np.eye()\n"
      ],
      "metadata": {
        "id": "joD7ZK8XNxEy"
      }
    },
    {
      "cell_type": "markdown",
      "source": [
        "Arrays- import numpy\n"
      ],
      "metadata": {
        "id": "LGqcQmPPN0h2"
      }
    },
    {
      "cell_type": "code",
      "execution_count": 1,
      "metadata": {
        "colab": {
          "base_uri": "https://localhost:8080/"
        },
        "id": "Leod6no-Nqz1",
        "outputId": "530aef29-e1c4-4725-e206-10551704e455"
      },
      "outputs": [
        {
          "output_type": "stream",
          "name": "stdout",
          "text": [
            "Array 1-Dimensional  [1 2 3 4 5]\n"
          ]
        }
      ],
      "source": [
        "import numpy as np\n",
        "x = np.array([1, 2, 3, 4, 5])\n",
        "print(\"Array 1-Dimensional \", x)"
      ]
    },
    {
      "cell_type": "code",
      "source": [
        "y = np.array([[1, 2], [3, 4]])\n",
        "print(\"Array 2-Dimensional\\n\", y)"
      ],
      "metadata": {
        "colab": {
          "base_uri": "https://localhost:8080/"
        },
        "id": "thv3DymyN3U_",
        "outputId": "ac1443e0-e10a-4dc7-a2b7-9d692b548f41"
      },
      "execution_count": 2,
      "outputs": [
        {
          "output_type": "stream",
          "name": "stdout",
          "text": [
            "Array 2-Dimensional\n",
            " [[1 2]\n",
            " [3 4]]\n"
          ]
        }
      ]
    },
    {
      "cell_type": "code",
      "source": [
        "o = np.ones((3, 6))\n",
        "print(\"Ones \\n\", o)"
      ],
      "metadata": {
        "colab": {
          "base_uri": "https://localhost:8080/"
        },
        "id": "FbiauSHZN5Mb",
        "outputId": "a7309107-f501-4de7-bcd8-8df09b5589e6"
      },
      "execution_count": 3,
      "outputs": [
        {
          "output_type": "stream",
          "name": "stdout",
          "text": [
            "Ones \n",
            " [[1. 1. 1. 1. 1. 1.]\n",
            " [1. 1. 1. 1. 1. 1.]\n",
            " [1. 1. 1. 1. 1. 1.]]\n"
          ]
        }
      ]
    },
    {
      "cell_type": "code",
      "source": [
        "z = np.zeros((10, 10))\n",
        "print(\"Zeros \\n\", z)"
      ],
      "metadata": {
        "colab": {
          "base_uri": "https://localhost:8080/"
        },
        "id": "A1nDXAr5N65a",
        "outputId": "c73edd98-4131-4c82-e91b-3f43253a628e"
      },
      "execution_count": 4,
      "outputs": [
        {
          "output_type": "stream",
          "name": "stdout",
          "text": [
            "Zeros \n",
            " [[0. 0. 0. 0. 0. 0. 0. 0. 0. 0.]\n",
            " [0. 0. 0. 0. 0. 0. 0. 0. 0. 0.]\n",
            " [0. 0. 0. 0. 0. 0. 0. 0. 0. 0.]\n",
            " [0. 0. 0. 0. 0. 0. 0. 0. 0. 0.]\n",
            " [0. 0. 0. 0. 0. 0. 0. 0. 0. 0.]\n",
            " [0. 0. 0. 0. 0. 0. 0. 0. 0. 0.]\n",
            " [0. 0. 0. 0. 0. 0. 0. 0. 0. 0.]\n",
            " [0. 0. 0. 0. 0. 0. 0. 0. 0. 0.]\n",
            " [0. 0. 0. 0. 0. 0. 0. 0. 0. 0.]\n",
            " [0. 0. 0. 0. 0. 0. 0. 0. 0. 0.]]\n"
          ]
        }
      ]
    },
    {
      "cell_type": "code",
      "source": [
        "i = np.eye(4)\n",
        "print(\"Identical Coordinates:\\n\", i)"
      ],
      "metadata": {
        "colab": {
          "base_uri": "https://localhost:8080/"
        },
        "id": "cMVKbfeQN8kq",
        "outputId": "aae9af83-6bac-48e1-d752-2a428e2fa689"
      },
      "execution_count": 5,
      "outputs": [
        {
          "output_type": "stream",
          "name": "stdout",
          "text": [
            "Identical Coordinates:\n",
            " [[1. 0. 0. 0.]\n",
            " [0. 1. 0. 0.]\n",
            " [0. 0. 1. 0.]\n",
            " [0. 0. 0. 1.]]\n"
          ]
        }
      ]
    },
    {
      "cell_type": "code",
      "source": [
        "r = np.arange(0, 11, 2)\n",
        "print(\"Array: \", r)"
      ],
      "metadata": {
        "colab": {
          "base_uri": "https://localhost:8080/"
        },
        "id": "_TX-rS7dN-T2",
        "outputId": "7a9197e3-1dd4-4221-c1f9-d497d511370b"
      },
      "execution_count": 6,
      "outputs": [
        {
          "output_type": "stream",
          "name": "stdout",
          "text": [
            "Array:  [ 0  2  4  6  8 10]\n"
          ]
        }
      ]
    },
    {
      "cell_type": "code",
      "source": [
        "seperate = np.linspace(0, 1, 10)\n",
        "print(\"Linspace \", seperate)"
      ],
      "metadata": {
        "colab": {
          "base_uri": "https://localhost:8080/"
        },
        "id": "JOYnBc5tN_v5",
        "outputId": "69ad9dd1-3c62-49f4-b2bd-74f1c6478554"
      },
      "execution_count": 7,
      "outputs": [
        {
          "output_type": "stream",
          "name": "stdout",
          "text": [
            "Linspace  [0.         0.11111111 0.22222222 0.33333333 0.44444444 0.55555556\n",
            " 0.66666667 0.77777778 0.88888889 1.        ]\n"
          ]
        }
      ]
    },
    {
      "cell_type": "code",
      "source": [
        "seperate = np.linspace(0, 1, 5)\n",
        "print(\"Linspace \", seperate)"
      ],
      "metadata": {
        "colab": {
          "base_uri": "https://localhost:8080/"
        },
        "id": "7ntZLOpIOCIU",
        "outputId": "cdeb8f70-a061-4936-80b6-8a87b5b447e7"
      },
      "execution_count": 8,
      "outputs": [
        {
          "output_type": "stream",
          "name": "stdout",
          "text": [
            "Linspace  [0.   0.25 0.5  0.75 1.  ]\n"
          ]
        }
      ]
    },
    {
      "cell_type": "markdown",
      "source": [
        "Operations on arrays using numpy"
      ],
      "metadata": {
        "id": "zh4IaouROGj-"
      }
    },
    {
      "cell_type": "code",
      "source": [
        "a = np.array([1, 2, 3, 4])\n",
        "b = np.array([5, 6, 7, 8])\n",
        "print(\"Addition: \", a + b)\n",
        "print(\"Product: \", a * b)\n",
        "print(\"Square of a: \", a ** 2)\n",
        "print(\"Sin values: \", np.sin(a))\n",
        "print(\"Mean: \", np.mean(a))\n",
        "print(\"Max: \", np.max(a))"
      ],
      "metadata": {
        "colab": {
          "base_uri": "https://localhost:8080/"
        },
        "id": "1ca5d4QhOD-C",
        "outputId": "23c3eddb-4be5-4bac-f9fa-a06ed4407418"
      },
      "execution_count": 9,
      "outputs": [
        {
          "output_type": "stream",
          "name": "stdout",
          "text": [
            "Addition:  [ 6  8 10 12]\n",
            "Product:  [ 5 12 21 32]\n",
            "Square of a:  [ 1  4  9 16]\n",
            "Sin values:  [ 0.84147098  0.90929743  0.14112001 -0.7568025 ]\n",
            "Mean:  2.5\n",
            "Max:  4\n"
          ]
        }
      ]
    },
    {
      "cell_type": "code",
      "source": [
        "a = np.arange(1, 10)\n",
        "print(a)\n",
        "reshaped = a.reshape((3, 3))\n",
        "print(reshaped)\n",
        "linear = reshaped.reshape(-1)\n",
        "print(linear)\n",
        "linear = reshaped.flatten()\n",
        "print(linear)\n",
        "print(\"Element at (1, 1): \", reshaped[1, 1])\n",
        "print(\"Greater than 5: \", linear[linear > 5])\n",
        "print(\"Less than 5: \", linear[linear < 5])\n",
        "print(\"Random numbers between 0 to 3: \", np.random.rand(3))\n",
        "print(\"Random integer:\\n\", np.random.randint(1, 100, (2, 3)))"
      ],
      "metadata": {
        "colab": {
          "base_uri": "https://localhost:8080/"
        },
        "id": "0I89dL3COJLr",
        "outputId": "d0b4189a-523d-4c8f-b62a-e901d65f3be8"
      },
      "execution_count": 10,
      "outputs": [
        {
          "output_type": "stream",
          "name": "stdout",
          "text": [
            "[1 2 3 4 5 6 7 8 9]\n",
            "[[1 2 3]\n",
            " [4 5 6]\n",
            " [7 8 9]]\n",
            "[1 2 3 4 5 6 7 8 9]\n",
            "[1 2 3 4 5 6 7 8 9]\n",
            "Element at (1, 1):  5\n",
            "Greater than 5:  [6 7 8 9]\n",
            "Less than 5:  [1 2 3 4]\n",
            "Random numbers between 0 to 3:  [0.48012047 0.33926273 0.74707598]\n",
            "Random integer:\n",
            " [[24 31 25]\n",
            " [20  6 93]]\n"
          ]
        }
      ]
    },
    {
      "cell_type": "markdown",
      "source": [
        "code to print a 3x3 matrix which were filled with boolean value True using numpy"
      ],
      "metadata": {
        "id": "X2lU9g69ONG_"
      }
    },
    {
      "cell_type": "code",
      "source": [
        "import numpy as np\n",
        "a = np.full((3, 3), True)\n",
        "print(a)"
      ],
      "metadata": {
        "colab": {
          "base_uri": "https://localhost:8080/"
        },
        "id": "zliGW_qTOKoI",
        "outputId": "55ef49cc-7163-4664-a6bc-cff3c74f65b4"
      },
      "execution_count": 11,
      "outputs": [
        {
          "output_type": "stream",
          "name": "stdout",
          "text": [
            "[[ True  True  True]\n",
            " [ True  True  True]\n",
            " [ True  True  True]]\n"
          ]
        }
      ]
    },
    {
      "cell_type": "markdown",
      "source": [
        "vertical and horizontal - vstack and\n",
        "hstack\n",
        "\n",
        "code to take two arrays a and b, integrate a and b vertically and horizontally"
      ],
      "metadata": {
        "id": "LnNE0y_KORia"
      }
    },
    {
      "cell_type": "code",
      "source": [
        "import numpy as np\n",
        "a = list(map(int,input(\"enter 3 numbers for array a,space separated:\").split()))\n",
        "b = list(map(int,input(\"enter 3 numbers for array a,space separated:\").split()))\n",
        "a = np.array(a)\n",
        "b = np.array(b)\n",
        "v = np.vstack((a,b))\n",
        "print(\"vertical stack :\\n\", np.vstack((a,b)))\n",
        "print(\"horizontal stack:\\n\", np.hstack((a,b)))#also can use concatenate instead hstack\n",
        "print(\"element 5 access\", v[1][1])"
      ],
      "metadata": {
        "colab": {
          "base_uri": "https://localhost:8080/"
        },
        "id": "m1qj42OlOPT1",
        "outputId": "a8308a92-52c9-4816-9a12-2552c95c3ff0"
      },
      "execution_count": 12,
      "outputs": [
        {
          "output_type": "stream",
          "name": "stdout",
          "text": [
            "enter 3 numbers for array a,space separated:10 20 30\n",
            "enter 3 numbers for array a,space separated:40 50 60\n",
            "vertical stack :\n",
            " [[10 20 30]\n",
            " [40 50 60]]\n",
            "horizontal stack:\n",
            " [10 20 30 40 50 60]\n",
            "element 5 access 50\n"
          ]
        }
      ]
    },
    {
      "cell_type": "markdown",
      "source": [
        "code to extract al the odd numbers from user input and print them in a list using array of numpy\n",
        "\n",
        "input:1 2 3 4 5 9 8 7 6\n",
        "\n",
        "output:[1,3,5,9,7]"
      ],
      "metadata": {
        "id": "K_cNOK3vOaMw"
      }
    },
    {
      "cell_type": "code",
      "source": [
        "import numpy as np\n",
        "data=input(\"enter numbers seperated by spaces:\")\n",
        "arr=np.array(list(map(int,data.split())))\n",
        "odd_nums=arr[arr%2==1]\n",
        "print(\"odd numbers list:\",odd_nums)"
      ],
      "metadata": {
        "colab": {
          "base_uri": "https://localhost:8080/"
        },
        "id": "W4WX3d7GOTj5",
        "outputId": "12b9365c-a3db-4341-ae96-85bd2d2bc1f9"
      },
      "execution_count": 13,
      "outputs": [
        {
          "output_type": "stream",
          "name": "stdout",
          "text": [
            "enter numbers seperated by spaces:1 2 3 4 5 6 7 8 9\n",
            "odd numbers list: [1 3 5 7 9]\n"
          ]
        }
      ]
    },
    {
      "cell_type": "code",
      "source": [
        "import numpy as np\n",
        "data=input(\"enter numbers seperated by spaces:\")\n",
        "arr=np.array(list(map(int,data.split())),dtype=object)\n",
        "arr[arr%2==0]='even'\n",
        "print(arr)"
      ],
      "metadata": {
        "colab": {
          "base_uri": "https://localhost:8080/"
        },
        "id": "sJyda4AAOcLv",
        "outputId": "13c5db04-f99d-4c84-cab1-55ff85ef37bc"
      },
      "execution_count": 14,
      "outputs": [
        {
          "output_type": "stream",
          "name": "stdout",
          "text": [
            "enter numbers seperated by spaces:34 56 34 76 54 43\n",
            "['even' 'even' 'even' 'even' 'even' 43]\n"
          ]
        }
      ]
    },
    {
      "cell_type": "code",
      "source": [
        "import numpy as np\n",
        "data=input(\"enter numbers seperated by spaces:\")\n",
        "arr=np.array(list(map(int,data.split())),dtype=object)\n",
        "arr[arr%2==1]=True\n",
        "print(arr)"
      ],
      "metadata": {
        "colab": {
          "base_uri": "https://localhost:8080/"
        },
        "id": "a08BtmCkOhnh",
        "outputId": "26ba6ff7-2f37-4e74-98f2-69da8e4115f5"
      },
      "execution_count": 15,
      "outputs": [
        {
          "output_type": "stream",
          "name": "stdout",
          "text": [
            "enter numbers seperated by spaces:34 56 23 76 45\n",
            "[34 56 True 76 True]\n"
          ]
        }
      ]
    },
    {
      "cell_type": "code",
      "source": [
        "#print even false and odd true\n",
        "import numpy as np\n",
        "data=input(\"enter numbers seperated by spaces:\")\n",
        "arr=np.array(list(map(int,data.split())),dtype=object)\n",
        "arr[arr%2==0]=False\n",
        "arr[arr%2==1]=True\n",
        "print(arr)"
      ],
      "metadata": {
        "colab": {
          "base_uri": "https://localhost:8080/"
        },
        "id": "6J4E9JDbOmtt",
        "outputId": "e8018ac6-2b84-43c2-d408-39bf33ed173c"
      },
      "execution_count": 16,
      "outputs": [
        {
          "output_type": "stream",
          "name": "stdout",
          "text": [
            "enter numbers seperated by spaces:43 65 23 65\n",
            "[True True True True]\n"
          ]
        }
      ]
    },
    {
      "cell_type": "code",
      "source": [
        "#if multiples of 3 then print true or else false\n",
        "import numpy as np\n",
        "data=input(\"enter numbers seperated by spaces:\")\n",
        "arr=np.array(list(map(int,data.split())))\n",
        "mask= arr%3 ==0\n",
        "print(mask)"
      ],
      "metadata": {
        "colab": {
          "base_uri": "https://localhost:8080/"
        },
        "id": "ZoQ0hnDAOqbU",
        "outputId": "c3a5a3c4-f404-46a6-965a-4d48f35ca960"
      },
      "execution_count": 17,
      "outputs": [
        {
          "output_type": "stream",
          "name": "stdout",
          "text": [
            "enter numbers seperated by spaces:34 56 32 54\n",
            "[False False False  True]\n"
          ]
        }
      ]
    },
    {
      "cell_type": "code",
      "source": [
        "import numpy as np\n",
        "arr=np.array([[1,2,3], [4,5,6]])\n",
        "print(\"element at [0,1]:\",arr[0,1])\n",
        "print(\"First row:\",arr[0, :])\n",
        "print(\"first row\",arr[:, 1:])\n",
        "arr[0,0]=100\n",
        "print(\"modify:\",arr)"
      ],
      "metadata": {
        "colab": {
          "base_uri": "https://localhost:8080/"
        },
        "id": "RFxkRqzdOuDO",
        "outputId": "72da8903-4647-4a17-c43a-ea192f4f32da"
      },
      "execution_count": 18,
      "outputs": [
        {
          "output_type": "stream",
          "name": "stdout",
          "text": [
            "element at [0,1]: 2\n",
            "First row: [1 2 3]\n",
            "first row [[2 3]\n",
            " [5 6]]\n",
            "modify: [[100   2   3]\n",
            " [  4   5   6]]\n"
          ]
        }
      ]
    },
    {
      "cell_type": "code",
      "source": [
        "import numpy as np\n",
        "arr=np.array([1,2,3,np.nan, 5])\n",
        "print(\"Ignoring Nan:\",np.nanmean(arr))\n",
        "print(\"sum:\",np.sum(arr))\n",
        "#sqrt1.N Ei=1 to N(x~i=u)**2\n",
        "print(\"std Ignoring NaN:\",np.std(arr[~np.isnan(arr)]))"
      ],
      "metadata": {
        "colab": {
          "base_uri": "https://localhost:8080/"
        },
        "id": "PN9s_n6ZOzp-",
        "outputId": "b214dde1-e7c9-4099-80f2-08959954f6d6"
      },
      "execution_count": 19,
      "outputs": [
        {
          "output_type": "stream",
          "name": "stdout",
          "text": [
            "Ignoring Nan: 2.75\n",
            "sum: nan\n",
            "std Ignoring NaN: 1.479019945774904\n"
          ]
        }
      ]
    },
    {
      "cell_type": "code",
      "source": [
        "#replace NaN\n",
        "import numpy as np\n",
        "arr=np.array([1,np.nan,3,4,5])\n",
        "print(\"replace Nan with 0:\",np.where(np.isnan(arr),0,arr))"
      ],
      "metadata": {
        "colab": {
          "base_uri": "https://localhost:8080/"
        },
        "id": "NGV5Db7wO1gd",
        "outputId": "0aac758c-0c01-4fc7-f097-0fbce126dc1b"
      },
      "execution_count": 20,
      "outputs": [
        {
          "output_type": "stream",
          "name": "stdout",
          "text": [
            "replace Nan with 0: [1. 0. 3. 4. 5.]\n"
          ]
        }
      ]
    },
    {
      "cell_type": "code",
      "source": [
        "#universal functions unfuncs()\n",
        "import numpy as np\n",
        "arr=np.array([1.5,2.9,9.8])\n",
        "print(arr.astype(np.int32))\n",
        "arr=np.array([1,2,3,4,5])\n",
        "print(arr.astype(np.float64))\n",
        "arr=np.array([1.5,2.9,9.8])\n",
        "print(arr.astype(str))\n",
        "arr=np.array([0,1,7,0,-1])\n",
        "print(arr.astype(bool))\n",
        "arr=np.array([True,True,False,True])\n",
        "print(arr.astype(np.int32))\n",
        "arr=np.array([1.5,2.9,9.8])\n",
        "print(arr.astype(np.complex128))\n",
        "arr=np.array([1,2,3,4])\n",
        "print(arr.astype(np.int8))\n",
        "arr=np.array([20250802,19990101])\n",
        "print(arr.astype('datetime64[D]'))\n",
        "arr=np.array(['123','345'])\n",
        "print(arr.astype(np.int32))"
      ],
      "metadata": {
        "colab": {
          "base_uri": "https://localhost:8080/"
        },
        "id": "4QoIjvpaO3P9",
        "outputId": "2db786e5-5d5d-4996-e5a9-2c725ca5b178"
      },
      "execution_count": 21,
      "outputs": [
        {
          "output_type": "stream",
          "name": "stdout",
          "text": [
            "[1 2 9]\n",
            "[1. 2. 3. 4. 5.]\n",
            "['1.5' '2.9' '9.8']\n",
            "[False  True  True False  True]\n",
            "[1 1 0 1]\n",
            "[1.5+0.j 2.9+0.j 9.8+0.j]\n",
            "[1 2 3 4]\n",
            "['57414-10-25' '56701-01-15']\n",
            "[123 345]\n"
          ]
        }
      ]
    },
    {
      "cell_type": "code",
      "source": [],
      "metadata": {
        "id": "B0ne-BbTO456"
      },
      "execution_count": null,
      "outputs": []
    }
  ]
}