{
  "nbformat": 4,
  "nbformat_minor": 0,
  "metadata": {
    "colab": {
      "provenance": [],
      "authorship_tag": "ABX9TyMIvGU2dw7n2wX5EAQdjH6y",
      "include_colab_link": true
    },
    "kernelspec": {
      "name": "python3",
      "display_name": "Python 3"
    },
    "language_info": {
      "name": "python"
    }
  },
  "cells": [
    {
      "cell_type": "markdown",
      "metadata": {
        "id": "view-in-github",
        "colab_type": "text"
      },
      "source": [
        "<a href=\"https://colab.research.google.com/github/KodaliSuchitraKamala/Wipro_Training/blob/main/RegularExpressions.ipynb\" target=\"_parent\"><img src=\"https://colab.research.google.com/assets/colab-badge.svg\" alt=\"Open In Colab\"/></a>"
      ]
    },
    {
      "cell_type": "markdown",
      "source": [
        "## Regular Expressions\n",
        "\n",
        "import re\n",
        "\n",
        "functions\n",
        " 1. re.findall()\n",
        " 2. re.match() - 0 - (n - 1)(str1) (0 - (n -1)(str2))\n",
        " hello Hello\n",
        " 3. re.search()\n",
        " 4. re. sub()\n",
        " 5. re.compile()\n",
        " 6. re.split()\n",
        " 7. re.finditer()\n",
        "\n",
        "Cases in Regular Expressions:\n",
        " 1. re.IGNORECASE / re.I\n",
        " 2. re.MULTILINE / re.M\n",
        " 3. re.DOTALL / re.D\n",
        " 4. re.VERBOSE / re.V\n",
        "\n",
        "metachars-\n",
        " 1. ^ - start of string\n",
        " 2. $ - end of \" \"\n",
        " 3. '*' - occurences\n",
        " 4. '+' - occurences\n",
        " 5. ? - combination of *, +\n",
        " 6. [] - set of characters\n",
        " 7. () - grouping\n",
        " 8. \\ - escape\n",
        " 9. . - newline\n",
        "\n",
        " syntax - re.match(searchedelements, tex)"
      ],
      "metadata": {
        "id": "4rsdVPovKR4Z"
      }
    },
    {
      "cell_type": "markdown",
      "source": [
        "code to take a text data and fetch to match the given data\n"
      ],
      "metadata": {
        "id": "uHn7zXT7KVCc"
      }
    },
    {
      "cell_type": "code",
      "execution_count": null,
      "metadata": {
        "colab": {
          "base_uri": "https://localhost:8080/"
        },
        "id": "TXa3tp-TKJw1",
        "outputId": "366c2a4d-547b-49d6-f060-0132fcf00829"
      },
      "outputs": [
        {
          "output_type": "stream",
          "name": "stdout",
          "text": [
            "No Match ......\n"
          ]
        }
      ],
      "source": [
        "import re\n",
        "text = 'hi students how are you!!!'\n",
        "se = r'how'\n",
        "output = re.match(se, text)\n",
        "if output:\n",
        "    print(\"Match found for: \", output)\n",
        "else:\n",
        "    print(\"No Match ......\")"
      ]
    },
    {
      "cell_type": "markdown",
      "source": [
        "group, if you have a match in data. group will extract    \n"
      ],
      "metadata": {
        "id": "UM-WhplMKZLT"
      }
    },
    {
      "cell_type": "code",
      "source": [
        "import re\n",
        "text = 'hi students how are you!!!'\n",
        "se = r'hi'\n",
        "output = re.match(se, text)\n",
        "if output:\n",
        "    print(\"Match found for: \", output.group())\n",
        "else:\n",
        "    print(\"No Match ......\")"
      ],
      "metadata": {
        "colab": {
          "base_uri": "https://localhost:8080/"
        },
        "id": "_B2HMoIbKW-q",
        "outputId": "7d3b6876-b5a0-4009-b7a5-2e6be9f9510e"
      },
      "execution_count": null,
      "outputs": [
        {
          "output_type": "stream",
          "name": "stdout",
          "text": [
            "Match found for:  hi\n"
          ]
        }
      ]
    },
    {
      "cell_type": "code",
      "source": [
        "import re\n",
        "text = 'My number is 229'\n",
        "match = re.search(r'\\d+', text)\n",
        "print(match.group())\n"
      ],
      "metadata": {
        "colab": {
          "base_uri": "https://localhost:8080/"
        },
        "id": "Z6KyJuAlKzC5",
        "outputId": "e9cf8696-679b-446c-a585-53b00b955969"
      },
      "execution_count": null,
      "outputs": [
        {
          "output_type": "stream",
          "name": "stdout",
          "text": [
            "229\n"
          ]
        }
      ]
    },
    {
      "cell_type": "code",
      "source": [
        "import re\n",
        "text = 'My number is 229'\n",
        "match = re.search(r'\\d+', text)\n",
        "print(match)"
      ],
      "metadata": {
        "colab": {
          "base_uri": "https://localhost:8080/"
        },
        "id": "frA7xAZTK0nj",
        "outputId": "d89fc462-3229-4146-a980-b4785b867c33"
      },
      "execution_count": null,
      "outputs": [
        {
          "output_type": "stream",
          "name": "stdout",
          "text": [
            "<re.Match object; span=(13, 16), match='229'>\n"
          ]
        }
      ]
    },
    {
      "cell_type": "code",
      "source": [
        "import re\n",
        "text = input(\"Enter a sentence with a number: \")\n",
        "match = re.search(r'\\d+', text)\n",
        "if match:\n",
        "    print(\"Number found\", match.group())\n",
        "else:\n",
        "    print(\"no match\")"
      ],
      "metadata": {
        "colab": {
          "base_uri": "https://localhost:8080/"
        },
        "id": "OgNHJLBFK2Qv",
        "outputId": "9392668a-49ed-479a-c092-fb86dc612f04"
      },
      "execution_count": null,
      "outputs": [
        {
          "output_type": "stream",
          "name": "stdout",
          "text": [
            "Enter a sentence with a number: I am Suchitra 20 years old studying 3 year btech\n",
            "Number found 20\n"
          ]
        }
      ]
    },
    {
      "cell_type": "code",
      "source": [
        "import re\n",
        "text = input(\"Enter a sentence with a number: \")\n",
        "matches = list(re.finditer(r'\\d+', text))\n",
        "if len(matches) >= 2:\n",
        "    print(\"Second number found \", matches[1].group())\n",
        "elif len(matches) == 1:\n",
        "    print(\"Only one number found \", matches[0].group())\n",
        "else:\n",
        "    print(\"No Match\")"
      ],
      "metadata": {
        "colab": {
          "base_uri": "https://localhost:8080/"
        },
        "id": "o4xF3FApK5Iz",
        "outputId": "742dacc9-db35-4207-cc0c-5d62115fea43"
      },
      "execution_count": null,
      "outputs": [
        {
          "output_type": "stream",
          "name": "stdout",
          "text": [
            "Enter a sentence with a number: I am Suchitra 20 years old studying 3 year btech\n",
            "Second number found  3\n"
          ]
        }
      ]
    },
    {
      "cell_type": "code",
      "source": [
        "import re\n",
        "text = input(\"Enter a sentence with a number: \")\n",
        "matches = list(re.finditer(r'\\d+', text))\n",
        "if len(matches) >= 2:\n",
        "    print(\"Third number found \", matches[2].group())\n",
        "elif len(matches) == 1:\n",
        "    print(\"Only one number found \", matches[0].group())\n",
        "else:\n",
        "    print(\"No Match\")"
      ],
      "metadata": {
        "colab": {
          "base_uri": "https://localhost:8080/"
        },
        "id": "BAqLS5zfLAkx",
        "outputId": "a8e35adf-9564-4e67-aeea-3e7ab37a0644"
      },
      "execution_count": null,
      "outputs": [
        {
          "output_type": "stream",
          "name": "stdout",
          "text": [
            "Enter a sentence with a number: I am Suchitra 20 years old\n",
            "Only one number found  20\n"
          ]
        }
      ]
    },
    {
      "cell_type": "code",
      "source": [
        "import re\n",
        "text = input(\"Enter a sentence with a number: \")\n",
        "n = int(input(\"Which number you want to extract: \"))\n",
        "matches = list(re.findall(r'\\d+', text))\n",
        "if len(matches) >= n:\n",
        "    print(f\"{n}th number is: \", matches[n - 1])\n",
        "else:\n",
        "    print(\"Not found\")"
      ],
      "metadata": {
        "colab": {
          "base_uri": "https://localhost:8080/"
        },
        "id": "n5fwT0f7LIqO",
        "outputId": "13550124-9c54-4fd7-8c6b-9528b2a53263"
      },
      "execution_count": null,
      "outputs": [
        {
          "output_type": "stream",
          "name": "stdout",
          "text": [
            "Enter a sentence with a number: I am Suchitra 20 years old studying 3 year btech\n",
            "Which number you want to extract: 2\n",
            "2th number is:  3\n"
          ]
        }
      ]
    },
    {
      "cell_type": "code",
      "source": [
        "import re\n",
        "email = input(\"Enter your email: \")\n",
        "pattern = r'^[a-zA-Z0-9_]+@[a-zA-Z0-9_]+\\.[a-zA-Z]{2,}$'\n",
        "if re.match(pattern, email):\n",
        "    print(\"valid\")\n",
        "else:\n",
        "    print(\"Not Valid\")"
      ],
      "metadata": {
        "colab": {
          "base_uri": "https://localhost:8080/"
        },
        "id": "sI9UTEXsLj2d",
        "outputId": "3f9335d5-7354-47c3-f237-75712bc48fe3"
      },
      "execution_count": null,
      "outputs": [
        {
          "output_type": "stream",
          "name": "stdout",
          "text": [
            "Enter your email: kodalisuchitrakamala@gmail.com\n",
            "valid\n"
          ]
        }
      ]
    },
    {
      "cell_type": "code",
      "source": [
        "import re\n",
        "phone = input(\"Enter your number: \")\n",
        "pattern = r'^[6-9]\\d{9}$'\n",
        "if re.match(pattern, phone):\n",
        "    print(\"valid\")\n",
        "else:\n",
        "    print(\"Not Valid\")"
      ],
      "metadata": {
        "colab": {
          "base_uri": "https://localhost:8080/"
        },
        "id": "AhWg7BRJLtHD",
        "outputId": "c0a6fe06-1d3a-4e48-dc09-ad7479c1c163"
      },
      "execution_count": null,
      "outputs": [
        {
          "output_type": "stream",
          "name": "stdout",
          "text": [
            "Enter your number: 9398300146\n",
            "valid\n"
          ]
        }
      ]
    },
    {
      "cell_type": "code",
      "source": [],
      "metadata": {
        "id": "hAxGFdMwL9Km"
      },
      "execution_count": null,
      "outputs": []
    }
  ]
}