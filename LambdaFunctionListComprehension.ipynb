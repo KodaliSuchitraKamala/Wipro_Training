{
  "nbformat": 4,
  "nbformat_minor": 0,
  "metadata": {
    "colab": {
      "provenance": [],
      "authorship_tag": "ABX9TyP8yf77KwIVSkLz/Fywe1Pb",
      "include_colab_link": true
    },
    "kernelspec": {
      "name": "python3",
      "display_name": "Python 3"
    },
    "language_info": {
      "name": "python"
    }
  },
  "cells": [
    {
      "cell_type": "markdown",
      "metadata": {
        "id": "view-in-github",
        "colab_type": "text"
      },
      "source": [
        "<a href=\"https://colab.research.google.com/github/KodaliSuchitraKamala/Wipro_Training/blob/main/LambdaFunctionListComprehension.ipynb\" target=\"_parent\"><img src=\"https://colab.research.google.com/assets/colab-badge.svg\" alt=\"Open In Colab\"/></a>"
      ]
    },
    {
      "cell_type": "markdown",
      "source": [
        "## Lambda Functions\n"
      ],
      "metadata": {
        "id": "dCaJChq2GLmv"
      }
    },
    {
      "cell_type": "markdown",
      "source": [
        "## Basic Lambda function\n",
        "=======================================\n",
        "pvar = lambda v1, v2 ...... : operatioon / condition / boolean expression\n"
      ],
      "metadata": {
        "id": "PoghAKgqGO31"
      }
    },
    {
      "cell_type": "code",
      "execution_count": 1,
      "metadata": {
        "colab": {
          "base_uri": "https://localhost:8080/"
        },
        "id": "1xuFSyK3GDw4",
        "outputId": "f5f842ce-5731-4bc4-b65c-c7cf12c826d2"
      },
      "outputs": [
        {
          "output_type": "stream",
          "name": "stdout",
          "text": [
            "33\n"
          ]
        }
      ],
      "source": [
        "x = lambda num: num + 22\n",
        "print(x(11))"
      ]
    },
    {
      "cell_type": "code",
      "source": [
        "add = lambda num1, num2: num1 + num2\n",
        "print(add(11, 22))"
      ],
      "metadata": {
        "colab": {
          "base_uri": "https://localhost:8080/"
        },
        "id": "Tqo92FH3GRcz",
        "outputId": "c7f443ae-d326-46f8-eb4f-d1dae4d884f3"
      },
      "execution_count": 2,
      "outputs": [
        {
          "output_type": "stream",
          "name": "stdout",
          "text": [
            "33\n"
          ]
        }
      ]
    },
    {
      "cell_type": "code",
      "source": [
        "big = lambda x, y: x if x > y else y\n",
        "print(big(5, 2))"
      ],
      "metadata": {
        "colab": {
          "base_uri": "https://localhost:8080/"
        },
        "id": "8dSEPJJOGTCJ",
        "outputId": "e11417da-36f8-4ff8-d570-2484781b3f63"
      },
      "execution_count": 3,
      "outputs": [
        {
          "output_type": "stream",
          "name": "stdout",
          "text": [
            "5\n"
          ]
        }
      ]
    },
    {
      "cell_type": "code",
      "source": [
        "nums = [11, 22, 33, 44, 55, 77, 99]\n",
        "e = list(filter(lambda num: num % 2 == 0, nums))\n",
        "print(e)"
      ],
      "metadata": {
        "colab": {
          "base_uri": "https://localhost:8080/"
        },
        "id": "9ReE7EdjGUhz",
        "outputId": "aff20e8d-385a-4375-be50-56c4208e383f"
      },
      "execution_count": 4,
      "outputs": [
        {
          "output_type": "stream",
          "name": "stdout",
          "text": [
            "[22, 44]\n"
          ]
        }
      ]
    },
    {
      "cell_type": "code",
      "source": [
        "nums = [11, 22, 33, 44, 55, 77, 99]\n",
        "e = list(filter(lambda num: num % 2 != 0, nums))\n",
        "print(e)"
      ],
      "metadata": {
        "colab": {
          "base_uri": "https://localhost:8080/"
        },
        "id": "GO6NzHfiGW9W",
        "outputId": "bfc62a17-d3c8-485e-9eeb-7f9ee9b80ead"
      },
      "execution_count": 5,
      "outputs": [
        {
          "output_type": "stream",
          "name": "stdout",
          "text": [
            "[11, 33, 55, 77, 99]\n"
          ]
        }
      ]
    },
    {
      "cell_type": "markdown",
      "source": [
        "filter selects the values from the list based on the condition\n",
        "map evaluvates the value in the condition to produce the boolean values\n"
      ],
      "metadata": {
        "id": "tH_qdtZUGa_V"
      }
    },
    {
      "cell_type": "code",
      "source": [
        "nums = [11, 22, 33, 44, 55, 77, 99]\n",
        "e = list(map(lambda num: num % 2 != 0, nums))\n",
        "print(e)"
      ],
      "metadata": {
        "colab": {
          "base_uri": "https://localhost:8080/"
        },
        "id": "R8vGkf6EGYoU",
        "outputId": "280d0b23-80d3-4e24-89c0-b1bc69135e29"
      },
      "execution_count": 6,
      "outputs": [
        {
          "output_type": "stream",
          "name": "stdout",
          "text": [
            "[True, False, True, False, True, True, True]\n"
          ]
        }
      ]
    },
    {
      "cell_type": "markdown",
      "source": [
        "sort generalized data\n",
        "sorted module evaluvation"
      ],
      "metadata": {
        "id": "gu_ukjN6GvmF"
      }
    },
    {
      "cell_type": "code",
      "source": [
        "packs = [(11, 99), (2, 11), (66, 66)]\n",
        "result = sorted(packs, key = lambda x: x[1])\n",
        "print(result)\n"
      ],
      "metadata": {
        "colab": {
          "base_uri": "https://localhost:8080/"
        },
        "id": "kJzv0NnpGdbX",
        "outputId": "5bea66db-41ac-4db2-f9a9-276c29ff0c5c"
      },
      "execution_count": 8,
      "outputs": [
        {
          "output_type": "stream",
          "name": "stdout",
          "text": [
            "[(2, 11), (66, 66), (11, 99)]\n"
          ]
        }
      ]
    },
    {
      "cell_type": "code",
      "source": [
        "def b(n):\n",
        "    return lambda x: x * n\n",
        "a = b(2)\n",
        "print(a(5))"
      ],
      "metadata": {
        "colab": {
          "base_uri": "https://localhost:8080/"
        },
        "id": "8Dee5J5kGt9G",
        "outputId": "cac726ad-7403-4be2-cf80-4b5bc3ac77a4"
      },
      "execution_count": 9,
      "outputs": [
        {
          "output_type": "stream",
          "name": "stdout",
          "text": [
            "10\n"
          ]
        }
      ]
    },
    {
      "cell_type": "code",
      "source": [
        "def a(n):\n",
        "    return n ** 3\n",
        "b = lambda x: x ** 3\n",
        "print(a(2))\n",
        "print(b(2))"
      ],
      "metadata": {
        "colab": {
          "base_uri": "https://localhost:8080/"
        },
        "id": "ee4fIMu5Gzlp",
        "outputId": "d2b55753-6905-4797-e319-4f8076d2ee1f"
      },
      "execution_count": 10,
      "outputs": [
        {
          "output_type": "stream",
          "name": "stdout",
          "text": [
            "8\n",
            "8\n"
          ]
        }
      ]
    },
    {
      "cell_type": "code",
      "source": [
        "\"\"\"\n",
        "code to declare the longest string using lambda\n",
        "\"\"\"\n",
        "long = lambda a, b: a if len(a) > len(b) else b\n",
        "print(long(\"Suchitra\", \"Kamala\"))\n",
        "print(long(\"1234\", \"12\"))"
      ],
      "metadata": {
        "colab": {
          "base_uri": "https://localhost:8080/"
        },
        "id": "B_Gumae7G1GU",
        "outputId": "a412baaa-673d-4c10-fcfb-feb74a0ba020"
      },
      "execution_count": 11,
      "outputs": [
        {
          "output_type": "stream",
          "name": "stdout",
          "text": [
            "Suchitra\n",
            "1234\n"
          ]
        }
      ]
    },
    {
      "cell_type": "markdown",
      "source": [
        "## List Comprehension With Lambda Function\n",
        "============================================"
      ],
      "metadata": {
        "id": "fLj36bg9G9kV"
      }
    },
    {
      "cell_type": "code",
      "source": [
        "data = ['pen', 'cap', 'bat']\n",
        "upper = [(lambda x: x.upper())(d) for d in data]\n",
        "print(upper)\n"
      ],
      "metadata": {
        "colab": {
          "base_uri": "https://localhost:8080/"
        },
        "id": "7x-koHUaG3BC",
        "outputId": "7e9e2c07-35f1-4942-eece-0183f9bbebf4"
      },
      "execution_count": 12,
      "outputs": [
        {
          "output_type": "stream",
          "name": "stdout",
          "text": [
            "['PEN', 'CAP', 'BAT']\n"
          ]
        }
      ]
    },
    {
      "cell_type": "markdown",
      "source": [
        "word = 'Suchitra'\n",
        "\n",
        "o/p = 'artihcuS'"
      ],
      "metadata": {
        "id": "SiwUhcqKHDZf"
      }
    },
    {
      "cell_type": "code",
      "source": [
        "word = 'Suchitra'\n",
        "reverse = \" \".join(map(lambda w: w[::-1], word.split()))\n",
        "print(reverse)"
      ],
      "metadata": {
        "colab": {
          "base_uri": "https://localhost:8080/"
        },
        "id": "lSSKYDIwG_63",
        "outputId": "326b3602-571c-4f95-acdd-028e7e32a7ec"
      },
      "execution_count": 13,
      "outputs": [
        {
          "output_type": "stream",
          "name": "stdout",
          "text": [
            "artihcuS\n"
          ]
        }
      ]
    },
    {
      "cell_type": "code",
      "source": [
        "words = ['Kodali', 'Suchitra', 'Kamala']\n",
        "rw = [(lambda w: w[::-1])(word) for word in words]\n",
        "print(rw)"
      ],
      "metadata": {
        "colab": {
          "base_uri": "https://localhost:8080/"
        },
        "id": "iRznOW4IHFyZ",
        "outputId": "43456958-b88f-4c3f-8471-da294e8d7296"
      },
      "execution_count": 14,
      "outputs": [
        {
          "output_type": "stream",
          "name": "stdout",
          "text": [
            "['iladoK', 'artihcuS', 'alamaK']\n"
          ]
        }
      ]
    },
    {
      "cell_type": "markdown",
      "source": [
        "['hi', ' ', 'students', ' ', 'bye']"
      ],
      "metadata": {
        "id": "4w1vxzruHVn5"
      }
    },
    {
      "cell_type": "code",
      "source": [
        "s = ['hi', ' ', 'students', ' ', 'bye']\n",
        "i = [x for x in s if(lambda v: v != \" \")(x)]\n",
        "print(i)"
      ],
      "metadata": {
        "colab": {
          "base_uri": "https://localhost:8080/"
        },
        "id": "EcfXOvS8HHa2",
        "outputId": "b03b1fd6-2bad-48a6-edbd-cc4db57f7fda"
      },
      "execution_count": 15,
      "outputs": [
        {
          "output_type": "stream",
          "name": "stdout",
          "text": [
            "['hi', 'students', 'bye']\n"
          ]
        }
      ]
    },
    {
      "cell_type": "markdown",
      "source": [
        "## Nested Recursive\n",
        "\n",
        "(a + b) * c expression lambda evaluate and returns to another lambda\n"
      ],
      "metadata": {
        "id": "fpurvtWTHa0t"
      }
    },
    {
      "cell_type": "code",
      "source": [
        "l2 = lambda a: lambda b, c: (a + b) * c  # l2 -> return b c\n",
        "num1 = int(input(\"Enter value of a: \"))\n",
        "num2 = int(input(\"Enter value of b: \"))\n",
        "num3 = int(input(\"Enter value of c: \"))\n",
        "l1 = l2(num1)\n",
        "value = l1(num2, num3)\n",
        "print(value)"
      ],
      "metadata": {
        "colab": {
          "base_uri": "https://localhost:8080/"
        },
        "id": "bkaFe7DtHYk0",
        "outputId": "84ac79cc-17f2-484d-b82c-4e6d4559b47f"
      },
      "execution_count": 17,
      "outputs": [
        {
          "output_type": "stream",
          "name": "stdout",
          "text": [
            "Enter value of a: 1\n",
            "Enter value of b: 2\n",
            "Enter value of c: 3\n",
            "9\n"
          ]
        }
      ]
    },
    {
      "cell_type": "code",
      "source": [
        "print((lambda a: lambda b, c: (a + b) * c)(5)(3,2))\n",
        "# l2(5)\n",
        "# l1(3, 2)"
      ],
      "metadata": {
        "colab": {
          "base_uri": "https://localhost:8080/"
        },
        "id": "ZjGXEt6bHeuq",
        "outputId": "c9594bcb-af1c-497b-9f8b-73c083a0da98"
      },
      "execution_count": 18,
      "outputs": [
        {
          "output_type": "stream",
          "name": "stdout",
          "text": [
            "16\n"
          ]
        }
      ]
    },
    {
      "cell_type": "markdown",
      "source": [
        "(a + b) * (c + d)"
      ],
      "metadata": {
        "id": "I7t5tPe6HooR"
      }
    },
    {
      "cell_type": "code",
      "source": [
        "print((lambda a: lambda b: lambda c, d: (a + b) * (c + d))(2)(3)(4, 5))\n"
      ],
      "metadata": {
        "colab": {
          "base_uri": "https://localhost:8080/"
        },
        "id": "Y07LU8PaHl9x",
        "outputId": "366e6ea8-b455-4d9f-85ec-b0a29b5a9728"
      },
      "execution_count": 19,
      "outputs": [
        {
          "output_type": "stream",
          "name": "stdout",
          "text": [
            "45\n"
          ]
        }
      ]
    },
    {
      "cell_type": "markdown",
      "source": [
        "(a - b) / (c - d)\n",
        "\n"
      ],
      "metadata": {
        "id": "DC3R476JHx-c"
      }
    },
    {
      "cell_type": "code",
      "source": [
        "print((lambda a: lambda b: lambda c, d: (a - b) / (c - d))(2)(3)(4, 5))\n"
      ],
      "metadata": {
        "colab": {
          "base_uri": "https://localhost:8080/"
        },
        "id": "-7oJoCecHtlE",
        "outputId": "e70751fe-05ea-454b-c71b-52e700fc0f64"
      },
      "execution_count": 20,
      "outputs": [
        {
          "output_type": "stream",
          "name": "stdout",
          "text": [
            "1.0\n"
          ]
        }
      ]
    },
    {
      "cell_type": "code",
      "source": [
        "op = lambda num: lambda numsq: num ** numsq\n",
        "num = int(input(\"Enter the number: \"))\n",
        "numsq = int(input(\"Enter the power: \"))\n",
        "assign = op(num)\n",
        "print(assign(numsq))"
      ],
      "metadata": {
        "colab": {
          "base_uri": "https://localhost:8080/"
        },
        "id": "r42Kz5n0H0bt",
        "outputId": "3678703e-4756-4c8a-c80e-981f683085f8"
      },
      "execution_count": 21,
      "outputs": [
        {
          "output_type": "stream",
          "name": "stdout",
          "text": [
            "Enter the number: 2\n",
            "Enter the power: 3\n",
            "8\n"
          ]
        }
      ]
    },
    {
      "cell_type": "code",
      "source": [
        "print((lambda a: lambda b: (a + b) ** 2)(int(input(\"a: \")))(int(input(\"b: \"))))\n"
      ],
      "metadata": {
        "colab": {
          "base_uri": "https://localhost:8080/"
        },
        "id": "NFz0FSwJH2Ub",
        "outputId": "4b9e5fd7-c7ac-40e6-ea51-3ee6ec12d996"
      },
      "execution_count": 22,
      "outputs": [
        {
          "output_type": "stream",
          "name": "stdout",
          "text": [
            "a: 1\n",
            "b: 2\n",
            "9\n"
          ]
        }
      ]
    },
    {
      "cell_type": "code",
      "source": [
        "print((lambda a: lambda b: (a + b) ** 3)(int(input(\"a: \")))(int(input(\"b: \"))))\n"
      ],
      "metadata": {
        "colab": {
          "base_uri": "https://localhost:8080/"
        },
        "id": "EDfwIak6H5RJ",
        "outputId": "3e69f3e6-a033-4ba1-f82e-d4bb37411fef"
      },
      "execution_count": 23,
      "outputs": [
        {
          "output_type": "stream",
          "name": "stdout",
          "text": [
            "a: 2 \n",
            "b: 3\n",
            "125\n"
          ]
        }
      ]
    },
    {
      "cell_type": "markdown",
      "source": [
        "(a - b) / (c - d) expression with different modulations.\n"
      ],
      "metadata": {
        "id": "kNGUO429IU_0"
      }
    },
    {
      "cell_type": "code",
      "source": [
        "try:\n",
        "    print((lambda a: lambda b: lambda c, d: (a - b) / (c - d))(10)(4)(8, 6))\n",
        "except ZeroDivisionError:\n",
        "    print(\"Division by Zero error!!!\")\n",
        "except TypeError:\n",
        "    print(\"Invalid Data Type!!!\")"
      ],
      "metadata": {
        "colab": {
          "base_uri": "https://localhost:8080/"
        },
        "id": "zrhgflRhIMDy",
        "outputId": "89cd91a7-8f07-4009-a63d-14082b1f653c"
      },
      "execution_count": 24,
      "outputs": [
        {
          "output_type": "stream",
          "name": "stdout",
          "text": [
            "3.0\n"
          ]
        }
      ]
    },
    {
      "cell_type": "code",
      "source": [
        "try:\n",
        "    print((lambda a: lambda b: lambda c, d: (a - b) / (c - d))(10)(4)(8, 8))\n",
        "except ZeroDivisionError:\n",
        "    print(\"Division by Zero error!!!\")\n",
        "except TypeError:\n",
        "    print(\"Invalid Data Type!!!\")"
      ],
      "metadata": {
        "colab": {
          "base_uri": "https://localhost:8080/"
        },
        "id": "LghbQMqZIXqm",
        "outputId": "f32e7719-8f4d-4614-882a-bf06492f386b"
      },
      "execution_count": 25,
      "outputs": [
        {
          "output_type": "stream",
          "name": "stdout",
          "text": [
            "Division by Zero error!!!\n"
          ]
        }
      ]
    },
    {
      "cell_type": "code",
      "source": [
        "try:\n",
        "    print((lambda a: lambda b: lambda c, d: (a - b) / (c - d))(\"10\")(4)(8, 8))\n",
        "except ZeroDivisionError:\n",
        "    print(\"Division by Zero error!!!\")\n",
        "except TypeError:\n",
        "    print(\"Invalid Data Type!!!\")"
      ],
      "metadata": {
        "colab": {
          "base_uri": "https://localhost:8080/"
        },
        "id": "z-aVBJ_lIZHb",
        "outputId": "9b3c0667-968a-4c12-8a50-e9b8b8b8a28e"
      },
      "execution_count": 26,
      "outputs": [
        {
          "output_type": "stream",
          "name": "stdout",
          "text": [
            "Invalid Data Type!!!\n"
          ]
        }
      ]
    },
    {
      "cell_type": "markdown",
      "source": [
        "\n",
        "simple nested lambda string combining with sperator operation for n attributes\n"
      ],
      "metadata": {
        "id": "VF8bQJHcIdoI"
      }
    },
    {
      "cell_type": "code",
      "source": [
        "print((lambda a: lambda b: lambda c, d: a + '-' + b + '-' + c + '-' + d)(input(\"a: \"))(input(\"b: \"))(input(\"c: \"), input(\"d: \")))\n"
      ],
      "metadata": {
        "colab": {
          "base_uri": "https://localhost:8080/"
        },
        "id": "sve-QgkPIa5S",
        "outputId": "57c797e8-e70d-46fa-9eea-bd0ba167461e"
      },
      "execution_count": 28,
      "outputs": [
        {
          "output_type": "stream",
          "name": "stdout",
          "text": [
            "a: 4\n",
            "b: 3\n",
            "c: 6\n",
            "d: 2\n",
            "4-3-6-2\n"
          ]
        }
      ]
    },
    {
      "cell_type": "markdown",
      "source": [
        "given attributes a, b, c, d are hi, !, Students,!!!\n",
        "\n",
        "write a nested lambda to concatnate the abcd, by converting a and c to uppercase\n",
        "\n",
        "output: HI!STUDENTS!!!"
      ],
      "metadata": {
        "id": "ciBx3v1MIndC"
      }
    },
    {
      "cell_type": "code",
      "source": [
        "print((lambda a: lambda b: lambda c, d: a.upper()+  b + c.upper() + d)(input(\"a: \"))(input(\"b: \"))(input(\"c: \"), input(\"d: \")))\n"
      ],
      "metadata": {
        "colab": {
          "base_uri": "https://localhost:8080/"
        },
        "id": "MVHTDd4eIf_0",
        "outputId": "b41001db-519a-47d4-ce26-8be917b1c6b8"
      },
      "execution_count": 29,
      "outputs": [
        {
          "output_type": "stream",
          "name": "stdout",
          "text": [
            "a: hi\n",
            "b: !\n",
            "c: Students\n",
            "d: !!!\n",
            "HI!STUDENTS!!!\n"
          ]
        }
      ]
    },
    {
      "cell_type": "markdown",
      "source": [
        "given attributes a, b, c, d are hi, hello, Students, teachers\n",
        "\n",
        "write a nested lambda to concatnate the abcd, by reversing with sep ' '\n",
        "\n",
        "output: ih olleh stnedutS srehcaet"
      ],
      "metadata": {
        "id": "nKjU5-9NIzJ_"
      }
    },
    {
      "cell_type": "code",
      "source": [
        "print((lambda a: lambda b: lambda c, d: a[::-1] + ' ' + b[::-1] + ' ' + c[::-1] + ' ' + d[::-1])('hi')('hello')('Students', 'teachers'))\n"
      ],
      "metadata": {
        "colab": {
          "base_uri": "https://localhost:8080/"
        },
        "id": "l45ivYT_Ir8G",
        "outputId": "6b6b55fe-49a3-4866-b365-88ddd4af54c7"
      },
      "execution_count": 30,
      "outputs": [
        {
          "output_type": "stream",
          "name": "stdout",
          "text": [
            "ih olleh stnedutS srehcaet\n"
          ]
        }
      ]
    },
    {
      "cell_type": "markdown",
      "source": [
        "given attributes a, b, c, d are hi, hello, Students, teachers\n",
        "\n",
        "write a nested lambda to concatnate the abcd, by reversing and do list comprehension on the reversed attributes\n",
        "\n",
        "output: ['ih', 'olleh', 'stnedutS', 'srehcaet']\n"
      ],
      "metadata": {
        "id": "NTr_t1n7I3ci"
      }
    },
    {
      "cell_type": "code",
      "source": [
        "print((lambda a: lambda b: lambda c, d: [a[::-1], b[::-1], c[::-1], d[::-1]])('hi')('hello')('Students', 'teachers'))\n"
      ],
      "metadata": {
        "colab": {
          "base_uri": "https://localhost:8080/"
        },
        "id": "77GlqcnQI1oR",
        "outputId": "cc3b2a9c-e792-4d94-9eaa-acd006858b92"
      },
      "execution_count": 31,
      "outputs": [
        {
          "output_type": "stream",
          "name": "stdout",
          "text": [
            "['ih', 'olleh', 'stnedutS', 'srehcaet']\n"
          ]
        }
      ]
    },
    {
      "cell_type": "code",
      "source": [
        "num = [4, 6, 3, 8]\n",
        "print((lambda a: [(x * 3 if x < 5 else x * 2) for x in a])(num))\n"
      ],
      "metadata": {
        "colab": {
          "base_uri": "https://localhost:8080/"
        },
        "id": "4KVJH9WSI5rU",
        "outputId": "0094ba2f-baad-49ee-a018-81b8eb15df5f"
      },
      "execution_count": 32,
      "outputs": [
        {
          "output_type": "stream",
          "name": "stdout",
          "text": [
            "[12, 12, 9, 16]\n"
          ]
        }
      ]
    },
    {
      "cell_type": "code",
      "source": [
        "numbers =(lambda x: lambda a: a * 2 if a > x else a * 3)\n",
        "above_5 = numbers(5)\n",
        "num = [4, 6, 3, 8]\n",
        "o = list(map(above_5, num))\n",
        "print(o)"
      ],
      "metadata": {
        "colab": {
          "base_uri": "https://localhost:8080/"
        },
        "id": "faDmP4WaI7gv",
        "outputId": "c87eb751-9057-4e7c-ab89-176c8f01ae22"
      },
      "execution_count": 33,
      "outputs": [
        {
          "output_type": "stream",
          "name": "stdout",
          "text": [
            "[12, 12, 9, 16]\n"
          ]
        }
      ]
    },
    {
      "cell_type": "markdown",
      "source": [
        "ps:\n",
        "\n",
        "data = [10, 'hi', 4.5, 'students', 3, 100]\n",
        "\n",
        "from rhe list containing numbers and strings, extract only integers using lambda function and list comprehension\n",
        "\n",
        "o/p: [10, 3, 100]"
      ],
      "metadata": {
        "id": "SsjphnDiJAlF"
      }
    },
    {
      "cell_type": "code",
      "source": [
        "data = [10, 'hi', 4.5, 'students', 3, 100]\n",
        "x = list(filter(lambda x: isinstance(x, int), data))\n",
        "print(x)\n",
        "i = [x for x in data if(lambda v: type(v) == int)(x)]\n",
        "print(i)"
      ],
      "metadata": {
        "colab": {
          "base_uri": "https://localhost:8080/"
        },
        "id": "RQFGw2GcI9Sw",
        "outputId": "ea6f4566-dc5c-4f6c-ebcf-376e4fbf24ab"
      },
      "execution_count": 34,
      "outputs": [
        {
          "output_type": "stream",
          "name": "stdout",
          "text": [
            "[10, 3, 100]\n",
            "[10, 3, 100]\n"
          ]
        }
      ]
    },
    {
      "cell_type": "markdown",
      "source": [
        "\n",
        "Calculate the factorial of n using recursion of lambda function.\n",
        "\n",
        "n = 4\n"
      ],
      "metadata": {
        "id": "r-M3H_ELJKtg"
      }
    },
    {
      "cell_type": "code",
      "source": [
        "n = int(input(\"Enter the number: \"))\n",
        "i = lambda fact: 1 if fact == 0 else fact * i(fact - 1)\n",
        "print(f\"Factorial of {n} is: {i(n)}\")\n",
        "fact = (lambda f : lambda n: 1 if n == 0 else n * f(f)(n - 1))(lambda f: lambda n: 1 if n == 0 else n * f(f)(n - 1))\n",
        "print(f\"Factorial of {n} is: {fact(n)}\")\n"
      ],
      "metadata": {
        "colab": {
          "base_uri": "https://localhost:8080/"
        },
        "id": "WH4rOuqCJIWW",
        "outputId": "3ccb995f-55d3-460e-cfdc-5133bd959788"
      },
      "execution_count": 35,
      "outputs": [
        {
          "output_type": "stream",
          "name": "stdout",
          "text": [
            "Enter the number: 5\n",
            "Factorial of 5 is: 120\n",
            "Factorial of 5 is: 120\n"
          ]
        }
      ]
    },
    {
      "cell_type": "markdown",
      "source": [
        "sum of digits : 3426\n",
        "\n",
        "o/p: 15"
      ],
      "metadata": {
        "id": "nToD1jx5JP7V"
      }
    },
    {
      "cell_type": "code",
      "source": [
        "dsum = (lambda f: lambda n: 0 if n == 0 else n % 10 + f(f)(n // 10))(lambda f: lambda n: 0 if n == 0 else n % 10 + f(f)(n // 10))\n",
        "print(dsum(3426))"
      ],
      "metadata": {
        "colab": {
          "base_uri": "https://localhost:8080/"
        },
        "id": "1ZW_kMTVJM4K",
        "outputId": "8e7106bf-03b0-41b9-90a9-9b1438cdd70f"
      },
      "execution_count": 36,
      "outputs": [
        {
          "output_type": "stream",
          "name": "stdout",
          "text": [
            "15\n"
          ]
        }
      ]
    },
    {
      "cell_type": "markdown",
      "source": [
        "## List Comprehension"
      ],
      "metadata": {
        "id": "LnfHN0ttJVBZ"
      }
    },
    {
      "cell_type": "markdown",
      "source": [
        "[expression for any item in iteration / with a condition]"
      ],
      "metadata": {
        "id": "zm1gvZAcJYAr"
      }
    },
    {
      "cell_type": "markdown",
      "source": [
        "code to take user input of random 10 numbers using list comprehension and print them\n",
        "\n",
        "constraint: take input with space seperated\n",
        "\n",
        "input must read 10 numbers if the user give more than 10 numbers space separated"
      ],
      "metadata": {
        "id": "W3QOVctHJa3F"
      }
    },
    {
      "cell_type": "code",
      "source": [
        "n = [int(x) for x in input(\"Enter 10 space separated numbers: \").split()[:5]]\n",
        "print(n)"
      ],
      "metadata": {
        "colab": {
          "base_uri": "https://localhost:8080/"
        },
        "id": "HKB8kPR-JR_T",
        "outputId": "ba787c08-5c23-40f5-8dde-dcb936a905d5"
      },
      "execution_count": 37,
      "outputs": [
        {
          "output_type": "stream",
          "name": "stdout",
          "text": [
            "Enter 10 space separated numbers: 1 2 3 4 5\n",
            "[1, 2, 3, 4, 5]\n"
          ]
        }
      ]
    },
    {
      "cell_type": "code",
      "source": [
        "colors = ['red', 'green', 'blue', 'violet']\n",
        "print([color.upper() for color in colors])\n",
        "print([x for x in range(11)])\n",
        "print([x for x in range(11) if x % 2 == 0])\n",
        "m = [[1, 2, 3], [4, 5, 6], [7, 8, 9]]\n",
        "print(m[2][1])\n",
        "m = [[1, 2, 3], [4, 5, [11, 22]], [7, 8, 9]]\n",
        "print(m[1][2][0])"
      ],
      "metadata": {
        "colab": {
          "base_uri": "https://localhost:8080/"
        },
        "id": "Ugav8ZU8Jdka",
        "outputId": "ab55ae80-3b5b-4837-9eb6-689aeddeccea"
      },
      "execution_count": 38,
      "outputs": [
        {
          "output_type": "stream",
          "name": "stdout",
          "text": [
            "['RED', 'GREEN', 'BLUE', 'VIOLET']\n",
            "[0, 1, 2, 3, 4, 5, 6, 7, 8, 9, 10]\n",
            "[0, 2, 4, 6, 8, 10]\n",
            "8\n",
            "11\n"
          ]
        }
      ]
    },
    {
      "cell_type": "markdown",
      "source": [
        "code to take user input with space seperated and convert the 9 inputs in to\n",
        "3x3 martix form on display uisng list comprehension"
      ],
      "metadata": {
        "id": "bXbCZWIzJkCC"
      }
    },
    {
      "cell_type": "code",
      "source": [
        "n = [int(x) for x in input(\"Enter 9 inputs numbers: \").split()[:9]]\n",
        "m = [[n[i * 3 + j] for j in range(3)] for i in range(3)]\n",
        "print(\"3x3 matrix\")\n",
        "for x in m:\n",
        "    print(x)"
      ],
      "metadata": {
        "colab": {
          "base_uri": "https://localhost:8080/"
        },
        "id": "hnbSKPSCJhnA",
        "outputId": "9e37fbc8-af1d-43ce-b4df-5daa2b975718"
      },
      "execution_count": 39,
      "outputs": [
        {
          "output_type": "stream",
          "name": "stdout",
          "text": [
            "Enter 9 inputs numbers: 1 2 3 4 5 6 7 8 9\n",
            "3x3 matrix\n",
            "[1, 2, 3]\n",
            "[4, 5, 6]\n",
            "[7, 8, 9]\n"
          ]
        }
      ]
    },
    {
      "cell_type": "markdown",
      "source": [
        "code to convert decimal to binary matrix by considering even and odd manipulations for user\n",
        "defined variables of an nxn matrix\n",
        "\n",
        "where n = 3\n",
        "\n",
        "list = [[1, 2, 3], [3, 3, 3], [4, 5, 6]]\n",
        "\n",
        "output:\n",
        "\n",
        "1 0 1\n",
        "\n",
        "1 1 1\n",
        "\n",
        "0 1 0"
      ],
      "metadata": {
        "id": "y11sSIl2Jswp"
      }
    },
    {
      "cell_type": "code",
      "source": [
        "n = input(\"Enter 9 numbers: \").split()\n",
        "num = [int(x) for x in n]\n",
        "m = [[num[i * 3 + j] for j in range(3)] for i in range(3)]\n",
        "bm = [[0 if m[i][j] % 2 == 0 else 1 for j in range(3)] for i in range(3)]\n",
        "for r in m:\n",
        "    print(r)\n",
        "for r in bm:\n",
        "    print(r)"
      ],
      "metadata": {
        "colab": {
          "base_uri": "https://localhost:8080/"
        },
        "id": "_eZUxTKtJl5F",
        "outputId": "7659ab8d-6422-47a8-ca1f-59ea68fe05b7"
      },
      "execution_count": 40,
      "outputs": [
        {
          "output_type": "stream",
          "name": "stdout",
          "text": [
            "Enter 9 numbers: 1 2 3 4 5 6 7 8 9\n",
            "[1, 2, 3]\n",
            "[4, 5, 6]\n",
            "[7, 8, 9]\n",
            "[1, 0, 1]\n",
            "[0, 1, 0]\n",
            "[1, 0, 1]\n"
          ]
        }
      ]
    },
    {
      "cell_type": "code",
      "source": [],
      "metadata": {
        "id": "Y5PtJ2tPJvas"
      },
      "execution_count": null,
      "outputs": []
    }
  ]
}