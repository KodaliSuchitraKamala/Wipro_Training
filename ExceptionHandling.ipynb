{
  "nbformat": 4,
  "nbformat_minor": 0,
  "metadata": {
    "colab": {
      "provenance": [],
      "authorship_tag": "ABX9TyPFVBH70JxxCJZK5sVkyWp0",
      "include_colab_link": true
    },
    "kernelspec": {
      "name": "python3",
      "display_name": "Python 3"
    },
    "language_info": {
      "name": "python"
    }
  },
  "cells": [
    {
      "cell_type": "markdown",
      "metadata": {
        "id": "view-in-github",
        "colab_type": "text"
      },
      "source": [
        "<a href=\"https://colab.research.google.com/github/KodaliSuchitraKamala/Wipro_Training/blob/main/ExceptionHandling.ipynb\" target=\"_parent\"><img src=\"https://colab.research.google.com/assets/colab-badge.svg\" alt=\"Open In Colab\"/></a>"
      ]
    },
    {
      "cell_type": "markdown",
      "source": [
        "## Exception Handling\n",
        "===========================\n",
        "Types of errors syntax,logical ......\n",
        "built-in exceptions\n",
        " 1. Exception - base class for all exception\n",
        " 2. StopIteration - next() method doesnot point any object\n",
        " 3. SystemExit - sys.exit() function raise\n",
        " 4. StandardError\n",
        " 5. ArthemeticError - math calculations /10\n",
        " 6. OverflowError - Numeric type exceeding the limit of its size\n",
        " 7. ZeroDivisionError - 10/0\n",
        " 8. AssertionError - assert statement\n",
        " 9. EOFError - till end last statement, when no IO or return value occurs\n",
        " 10. ImportError\n",
        " 11. KeyboardInterrupt\n",
        " 12. LookupError\n",
        " 13. IndexError - list [1, 2, 3, 4]\n",
        " 14. NameError\n",
        " 15. EnvironmentError - method consider / no value\n",
        " 16. IOError - file IO read finally\n",
        " 17. SystemError\n",
        " 18. ValueError\n",
        " 19. RuntimeError\n",
        " 20. TyeError\n",
        " 21. SyntaxError\n",
        " 22. IndentationError\n",
        " 23. NotImplementError - oop\n",
        " 24. AtributeError\n",
        "inheritance(anstract)\n",
        "\n",
        "Syntax of try amd catch\n",
        "try:\n",
        "    ------\n",
        "    ------\n",
        "except Exceptionname:\n",
        "    ------\n",
        "    ------\n"
      ],
      "metadata": {
        "id": "6a1u1ll79X6n"
      }
    },
    {
      "cell_type": "code",
      "source": [
        "c = int(input(\"Enter temperature in c: \"))\n",
        "f = (c * 9 / 5) + 32\n",
        "assert(f <= 32), \"It's Cold\"\n",
        "print(\"Fahrenheit: \", f)"
      ],
      "metadata": {
        "colab": {
          "base_uri": "https://localhost:8080/",
          "height": 211
        },
        "id": "9ktic8lq8a-S",
        "outputId": "05c0ea8d-7d0b-4d0a-b192-08669b2bb70f"
      },
      "execution_count": 3,
      "outputs": [
        {
          "name": "stdout",
          "output_type": "stream",
          "text": [
            "Enter temperature in c: 34\n"
          ]
        },
        {
          "output_type": "error",
          "ename": "AssertionError",
          "evalue": "It's Cold",
          "traceback": [
            "\u001b[0;31m---------------------------------------------------------------------------\u001b[0m",
            "\u001b[0;31mAssertionError\u001b[0m                            Traceback (most recent call last)",
            "\u001b[0;32m/tmp/ipython-input-1404945331.py\u001b[0m in \u001b[0;36m<cell line: 0>\u001b[0;34m()\u001b[0m\n\u001b[1;32m      1\u001b[0m \u001b[0mc\u001b[0m \u001b[0;34m=\u001b[0m \u001b[0mint\u001b[0m\u001b[0;34m(\u001b[0m\u001b[0minput\u001b[0m\u001b[0;34m(\u001b[0m\u001b[0;34m\"Enter temperature in c: \"\u001b[0m\u001b[0;34m)\u001b[0m\u001b[0;34m)\u001b[0m\u001b[0;34m\u001b[0m\u001b[0;34m\u001b[0m\u001b[0m\n\u001b[1;32m      2\u001b[0m \u001b[0mf\u001b[0m \u001b[0;34m=\u001b[0m \u001b[0;34m(\u001b[0m\u001b[0mc\u001b[0m \u001b[0;34m*\u001b[0m \u001b[0;36m9\u001b[0m \u001b[0;34m/\u001b[0m \u001b[0;36m5\u001b[0m\u001b[0;34m)\u001b[0m \u001b[0;34m+\u001b[0m \u001b[0;36m32\u001b[0m\u001b[0;34m\u001b[0m\u001b[0;34m\u001b[0m\u001b[0m\n\u001b[0;32m----> 3\u001b[0;31m \u001b[0;32massert\u001b[0m\u001b[0;34m(\u001b[0m\u001b[0mf\u001b[0m \u001b[0;34m<=\u001b[0m \u001b[0;36m32\u001b[0m\u001b[0;34m)\u001b[0m\u001b[0;34m,\u001b[0m \u001b[0;34m\"It's Cold\"\u001b[0m\u001b[0;34m\u001b[0m\u001b[0;34m\u001b[0m\u001b[0m\n\u001b[0m\u001b[1;32m      4\u001b[0m \u001b[0mprint\u001b[0m\u001b[0;34m(\u001b[0m\u001b[0;34m\"Fahrenheit: \"\u001b[0m\u001b[0;34m,\u001b[0m \u001b[0mf\u001b[0m\u001b[0;34m)\u001b[0m\u001b[0;34m\u001b[0m\u001b[0;34m\u001b[0m\u001b[0m\n",
            "\u001b[0;31mAssertionError\u001b[0m: It's Cold"
          ]
        }
      ]
    },
    {
      "cell_type": "code",
      "source": [
        "try:\n",
        "    raise NameError\n",
        "except:\n",
        "    print(\"Re-raising the exception\")\n",
        "    raise"
      ],
      "metadata": {
        "colab": {
          "base_uri": "https://localhost:8080/",
          "height": 228
        },
        "id": "MXCMCT1A9b_g",
        "outputId": "d8db87e9-38ae-4d18-d084-56a35a96e52d"
      },
      "execution_count": 4,
      "outputs": [
        {
          "output_type": "stream",
          "name": "stdout",
          "text": [
            "Re-raising the exception\n"
          ]
        },
        {
          "output_type": "error",
          "ename": "NameError",
          "evalue": "",
          "traceback": [
            "\u001b[0;31m---------------------------------------------------------------------------\u001b[0m",
            "\u001b[0;31mNameError\u001b[0m                                 Traceback (most recent call last)",
            "\u001b[0;32m/tmp/ipython-input-2731369090.py\u001b[0m in \u001b[0;36m<cell line: 0>\u001b[0;34m()\u001b[0m\n\u001b[1;32m      1\u001b[0m \u001b[0;32mtry\u001b[0m\u001b[0;34m:\u001b[0m\u001b[0;34m\u001b[0m\u001b[0;34m\u001b[0m\u001b[0m\n\u001b[0;32m----> 2\u001b[0;31m     \u001b[0;32mraise\u001b[0m \u001b[0mNameError\u001b[0m\u001b[0;34m\u001b[0m\u001b[0;34m\u001b[0m\u001b[0m\n\u001b[0m\u001b[1;32m      3\u001b[0m \u001b[0;32mexcept\u001b[0m\u001b[0;34m:\u001b[0m\u001b[0;34m\u001b[0m\u001b[0;34m\u001b[0m\u001b[0m\n\u001b[1;32m      4\u001b[0m     \u001b[0mprint\u001b[0m\u001b[0;34m(\u001b[0m\u001b[0;34m\"Re-raising the exception\"\u001b[0m\u001b[0;34m)\u001b[0m\u001b[0;34m\u001b[0m\u001b[0;34m\u001b[0m\u001b[0m\n\u001b[1;32m      5\u001b[0m     \u001b[0;32mraise\u001b[0m\u001b[0;34m\u001b[0m\u001b[0;34m\u001b[0m\u001b[0m\n",
            "\u001b[0;31mNameError\u001b[0m: "
          ]
        }
      ]
    },
    {
      "cell_type": "code",
      "source": [
        "try:\n",
        "    num = int(input(\"Enter number: \"))\n",
        "    print(num * 4)\n",
        "except KeyboardInterrupt:\n",
        "    print(\"Number Should be entered\")\n",
        "except ValueError:\n",
        "    print(\"Please check before you enter the data type\")\n",
        "print(\"Bye\")"
      ],
      "metadata": {
        "colab": {
          "base_uri": "https://localhost:8080/"
        },
        "id": "27dFRHkp9f80",
        "outputId": "0cd5f946-73d3-4877-d9d6-6befb33535c9"
      },
      "execution_count": 5,
      "outputs": [
        {
          "output_type": "stream",
          "name": "stdout",
          "text": [
            "Enter number: 2\n",
            "8\n",
            "Bye\n"
          ]
        }
      ]
    },
    {
      "cell_type": "code",
      "source": [
        "try:\n",
        "    num = int(input(\"Enter number: \"))\n",
        "    print(num * 4)\n",
        "except (KeyboardInterrupt, ValueError, TypeError):\n",
        "    print(\"Number Should be entered......Program Terminated!!!\")\n",
        "print(\"Bye\")"
      ],
      "metadata": {
        "colab": {
          "base_uri": "https://localhost:8080/"
        },
        "id": "Y0JaeZAl9hua",
        "outputId": "6f730d93-d01c-4d79-cc43-0b4b14d6c79f"
      },
      "execution_count": 6,
      "outputs": [
        {
          "output_type": "stream",
          "name": "stdout",
          "text": [
            "Enter number: 2\n",
            "8\n",
            "Bye\n"
          ]
        }
      ]
    },
    {
      "cell_type": "code",
      "source": [
        "try:\n",
        "    print(\"Raising Exception\")\n",
        "    raise ValueError\n",
        "except:\n",
        "    print(\"Exception caught......\")\n",
        "finally:\n",
        "    print(\"Performing clean-up in finally\")"
      ],
      "metadata": {
        "colab": {
          "base_uri": "https://localhost:8080/"
        },
        "id": "1YdqRXug9t2Q",
        "outputId": "08a78a6f-4ca5-45d1-d77d-44b5bbe494a5"
      },
      "execution_count": 7,
      "outputs": [
        {
          "output_type": "stream",
          "name": "stdout",
          "text": [
            "Raising Exception\n",
            "Exception caught......\n",
            "Performing clean-up in finally\n"
          ]
        }
      ]
    },
    {
      "cell_type": "code",
      "source": [
        "# raise [exception [, args[, traceback]]]\n",
        "try:\n",
        "    num = 11\n",
        "    print(num)\n",
        "    raise ValueError\n",
        "except:\n",
        "    print(\"Exception Occured \")\n",
        "\n",
        "    # Traceback (most recent calls)"
      ],
      "metadata": {
        "colab": {
          "base_uri": "https://localhost:8080/"
        },
        "id": "1hW2lRHw9xTD",
        "outputId": "1ff045af-51f2-43ba-bbe4-1a8fdf18e0cc"
      },
      "execution_count": 8,
      "outputs": [
        {
          "output_type": "stream",
          "name": "stdout",
          "text": [
            "11\n",
            "Exception Occured \n"
          ]
        }
      ]
    },
    {
      "cell_type": "code",
      "source": [
        "num = int(input(\"Enter the Numerator: \"))\n",
        "den = int(input(\"Enter the Denominator: \"))\n",
        "try:\n",
        "    quo = num / den\n",
        "    print(\"Quotient: \", quo)\n",
        "except ZeroDivisionError:\n",
        "    print(\"Denominator can't be Zero\")"
      ],
      "metadata": {
        "colab": {
          "base_uri": "https://localhost:8080/"
        },
        "id": "WFJyrS_c9zqP",
        "outputId": "04d232e3-f7c9-4764-f43b-7678bc09dc47"
      },
      "execution_count": 9,
      "outputs": [
        {
          "output_type": "stream",
          "name": "stdout",
          "text": [
            "Enter the Numerator: 10\n",
            "Enter the Denominator: 0\n",
            "Denominator can't be Zero\n"
          ]
        }
      ]
    },
    {
      "cell_type": "code",
      "source": [
        "import random\n",
        "class RandomError(Exception):\n",
        "    pass\n",
        "try:\n",
        "    num = random.random()\n",
        "    if num < 0.1:\n",
        "        raise RandomError\n",
        "except RandomError as e:\n",
        "    print(\"RandomError generated\")\n",
        "else:\n",
        "    print(\"%.4f\"%num)"
      ],
      "metadata": {
        "colab": {
          "base_uri": "https://localhost:8080/"
        },
        "id": "Ul_xcyk291Zz",
        "outputId": "ba422835-fc15-47b4-8f83-5a8f711bee01"
      },
      "execution_count": 10,
      "outputs": [
        {
          "output_type": "stream",
          "name": "stdout",
          "text": [
            "0.5356\n"
          ]
        }
      ]
    },
    {
      "cell_type": "code",
      "source": [],
      "metadata": {
        "id": "PiiuRFDJ94BL"
      },
      "execution_count": null,
      "outputs": []
    }
  ]
}