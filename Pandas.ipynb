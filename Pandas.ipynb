{
  "nbformat": 4,
  "nbformat_minor": 0,
  "metadata": {
    "colab": {
      "provenance": [],
      "authorship_tag": "ABX9TyPmDoF4yf9PKHu1KymIKzey",
      "include_colab_link": true
    },
    "kernelspec": {
      "name": "python3",
      "display_name": "Python 3"
    },
    "language_info": {
      "name": "python"
    }
  },
  "cells": [
    {
      "cell_type": "markdown",
      "metadata": {
        "id": "view-in-github",
        "colab_type": "text"
      },
      "source": [
        "<a href=\"https://colab.research.google.com/github/KodaliSuchitraKamala/Wipro_Training/blob/main/Pandas.ipynb\" target=\"_parent\"><img src=\"https://colab.research.google.com/assets/colab-badge.svg\" alt=\"Open In Colab\"/></a>"
      ]
    },
    {
      "cell_type": "markdown",
      "source": [
        "# Pandas\n",
        "1. series (1-D Array)\n",
        "2. Dataframes (2-D Array) / labeling will be on rows and columns\n",
        "### operations:\n",
        " 1. reading / writing of data (csv / json / xls)\n",
        " 2. inserting of data\n",
        " 3. selecting of data\n",
        " 4. data manipulation\n",
        " 5. grouping and aggregation\n",
        " 6. merging / joining\n",
        " 7. **sorting**"
      ],
      "metadata": {
        "id": "OtdpBuJQPhp3"
      }
    },
    {
      "cell_type": "markdown",
      "source": [
        "### Series (1-D Array)"
      ],
      "metadata": {
        "id": "b3-O3OWgPm6j"
      }
    },
    {
      "cell_type": "code",
      "execution_count": null,
      "metadata": {
        "colab": {
          "base_uri": "https://localhost:8080/"
        },
        "id": "PNzj78Y9PdF6",
        "outputId": "6be1f2ba-3467-42b5-e366-d882aaeb83e4"
      },
      "outputs": [
        {
          "output_type": "stream",
          "name": "stdout",
          "text": [
            "Enter 3 names seperated with space: \n",
            "Suchitra Roopa Eswari\n",
            "Enter 3 index labels: \n",
            "1 2 3\n",
            "Created a new series: \n",
            "1    Suchitra\n",
            "2       Roopa\n",
            "3      Eswari\n",
            "dtype: object\n"
          ]
        }
      ],
      "source": [
        "import pandas as pd\n",
        "print(\"Enter 3 names seperated with space: \")\n",
        "names = input().strip().split()\n",
        "print(\"Enter 3 index labels: \")\n",
        "indices = input().strip().split()\n",
        "try:\n",
        "    if len(names) != 3 or len(indices) != 3:\n",
        "        raise ValueError(\"Please provide exact names with indices\")\n",
        "    series = pd.Series(data = names, index = indices)\n",
        "    print(\"Created a new series: \")\n",
        "    print(series)\n",
        "except ValueError as e:\n",
        "    print(f\"Error: {e}\")"
      ]
    },
    {
      "cell_type": "code",
      "source": [
        "\"\"\"\n",
        "code elobrates how to filter numerical data in series based on condition (e.g.,\n",
        "values greater than a threshold)\n",
        "\"\"\"\n",
        "import pandas as pd\n",
        "print(\"Enter 4 random numbers, space sepearted: \")\n",
        "numbers = input().strip().split()\n",
        "numbers = [float(num) for num in numbers]\n",
        "try:\n",
        "  if len(numbers) != 4:\n",
        "    raise ValueError(\"Please provide exactly 4 numbers: \")\n",
        "  total_data = pd.Series(numbers)\n",
        "  print(total_data)\n",
        "  filtered = total_data[total_data > 10]\n",
        "  # 0 -> 5 1 -> 15 2 -> 8 3 -> 18\n",
        "  print(filtered)\n",
        "except ValueError as e:\n",
        "  print(f\"Error: {e}\")"
      ],
      "metadata": {
        "colab": {
          "base_uri": "https://localhost:8080/"
        },
        "id": "PdWsxFu8PpWn",
        "outputId": "996acc6b-1a89-4fe7-da2b-92ca562a4751"
      },
      "execution_count": null,
      "outputs": [
        {
          "output_type": "stream",
          "name": "stdout",
          "text": [
            "Enter 4 random numbers, space sepearted: \n",
            "5 15 8 18\n",
            "0     5.0\n",
            "1    15.0\n",
            "2     8.0\n",
            "3    18.0\n",
            "dtype: float64\n",
            "1    15.0\n",
            "3    18.0\n",
            "dtype: float64\n"
          ]
        }
      ]
    },
    {
      "cell_type": "code",
      "source": [
        "\"\"\"\n",
        "code elobrates how to filter string data in series based on condition (e.g.,\n",
        "strings containing a apecific substring)\n",
        "\"\"\"\n",
        "import pandas as pd\n",
        "print(\"Enter 5 strings, space seperated: \")\n",
        "strings = input().strip().split()\n",
        "print(\"Enter substring: \")\n",
        "substring = input().strip()\n",
        "try:\n",
        "    if len(strings) != 5:\n",
        "        raise ValueError(\"Please provide 5 strins only: \")\n",
        "    series = pd.Series(strings)\n",
        "    print(\"\\nOriginal Series: \")\n",
        "    print(series)\n",
        "    filtered = series[series.str.lower().str.contains(substring.lower(), na = False)]\n",
        "    print(f\"strings containing '{substring}' (case-intensitive):\")\n",
        "    print(filtered if not filtered.empty else \"No match found.\")\n",
        "except ValueError as e:\n",
        "    print(f\"Error: {e}\")"
      ],
      "metadata": {
        "colab": {
          "base_uri": "https://localhost:8080/"
        },
        "id": "KOQMSPyAP5wB",
        "outputId": "780291fa-4967-4bb7-dd52-4e60e6a2f6b6"
      },
      "execution_count": null,
      "outputs": [
        {
          "output_type": "stream",
          "name": "stdout",
          "text": [
            "Enter 5 strings, space seperated: \n",
            "Apple Banana Orange Mango Papaya\n",
            "Enter substring: \n",
            "an\n",
            "\n",
            "Original Series: \n",
            "0     Apple\n",
            "1    Banana\n",
            "2    Orange\n",
            "3     Mango\n",
            "4    Papaya\n",
            "dtype: object\n",
            "strings containing 'an' (case-intensitive):\n",
            "1    Banana\n",
            "2    Orange\n",
            "3     Mango\n",
            "dtype: object\n"
          ]
        }
      ]
    },
    {
      "cell_type": "code",
      "source": [
        "\"\"\"\n",
        "missing values operations on NaN\n",
        "\"\"\"\n",
        "import pandas as pd\n",
        "import numpy as np\n",
        "series = pd.Series([10, np.nan, 30, np.nan, 50], index = ['a', 'b', 'c', 'd','e'])\n",
        "print(\"\\nOriginal Series: \")\n",
        "print(series)\n",
        "# check missing values\n",
        "print(\"\\nMissing Values: \")\n",
        "print(series.isna())\n",
        "# replace nan with 0\n",
        "filled_series = series.fillna(0)\n",
        "print(\"\\nSeries after filling NaN with 0: \")\n",
        "print(filled_series)\n",
        "# missing values deletion\n",
        "dropped_series = series.dropna()\n",
        "print(\"\\nSeries after dropping NaN values: \")\n",
        "print(dropped_series)"
      ],
      "metadata": {
        "colab": {
          "base_uri": "https://localhost:8080/"
        },
        "id": "UEY0lgXYQFOx",
        "outputId": "55b03d8c-fe3b-420c-ab10-23a01b139cac"
      },
      "execution_count": null,
      "outputs": [
        {
          "output_type": "stream",
          "name": "stdout",
          "text": [
            "\n",
            "Original Series: \n",
            "a    10.0\n",
            "b     NaN\n",
            "c    30.0\n",
            "d     NaN\n",
            "e    50.0\n",
            "dtype: float64\n",
            "\n",
            "Missing Values: \n",
            "a    False\n",
            "b     True\n",
            "c    False\n",
            "d     True\n",
            "e    False\n",
            "dtype: bool\n",
            "\n",
            "Series after filling NaN with 0: \n",
            "a    10.0\n",
            "b     0.0\n",
            "c    30.0\n",
            "d     0.0\n",
            "e    50.0\n",
            "dtype: float64\n",
            "\n",
            "Series after dropping NaN values: \n",
            "a    10.0\n",
            "c    30.0\n",
            "e    50.0\n",
            "dtype: float64\n"
          ]
        }
      ]
    },
    {
      "cell_type": "code",
      "source": [
        "\"\"\"\n",
        "code to show the computaion of statistics and access\n",
        "series attributes.\n",
        "100 200 150 300 250\n",
        "print original data, which is serialized\n",
        "statistics:\n",
        "mean\n",
        "sum\n",
        "max\n",
        "min\n",
        "Attributes:\n",
        "index = ['a'......'e']\n",
        "values = [100.0 ...... 250.0]\n",
        "\"\"\"\n",
        "import pandas as pd\n",
        "print(\"Enter 5 random numbers, space seperated: \")\n",
        "numbers = input().strip().split()\n",
        "numbers = [float(num) for num in numbers]\n",
        "try:\n",
        "    if len(numbers) != 5:\n",
        "        raise ValueError(\"Please provide exactly 5 numbers: \")\n",
        "    series = pd.Series(numbers, index = ['a', 'b', 'c', 'd', 'e'])\n",
        "    print(\"\\nOriginal Series: \")\n",
        "    print(series)\n",
        "    # Statistics\n",
        "    print(\"\\nStatistics: \")\n",
        "    print(f\"Mean: {series.mean()}\")\n",
        "    print(f\"Sum: {series.sum()}\")\n",
        "    print(f\"Max: {series.max()}\")\n",
        "    print(f\"Min: {series.min()}\")\n",
        "    # Attributes\n",
        "    print(\"\\nAttributes: \")\n",
        "    print(f\"Index: {series.index.tolist()}\")\n",
        "    print(f\"Values: {series.values.tolist()}\")\n",
        "    print(f\"DataType: {series.dtype}\")\n",
        "except ValueError as e:\n",
        "    print(f\"Error: {e}\")"
      ],
      "metadata": {
        "colab": {
          "base_uri": "https://localhost:8080/"
        },
        "id": "4Aog8KK5QQHV",
        "outputId": "0cb14370-60a1-4164-ef00-55fa679c4a07"
      },
      "execution_count": null,
      "outputs": [
        {
          "output_type": "stream",
          "name": "stdout",
          "text": [
            "Enter 5 random numbers, space seperated: \n",
            "100 150 200 250 300\n",
            "\n",
            "Original Series: \n",
            "a    100.0\n",
            "b    150.0\n",
            "c    200.0\n",
            "d    250.0\n",
            "e    300.0\n",
            "dtype: float64\n",
            "\n",
            "Statistics: \n",
            "Mean: 200.0\n",
            "Sum: 1000.0\n",
            "Max: 300.0\n",
            "Min: 100.0\n",
            "\n",
            "Attributes: \n",
            "Index: ['a', 'b', 'c', 'd', 'e']\n",
            "Values: [100.0, 150.0, 200.0, 250.0, 300.0]\n",
            "DataType: float64\n"
          ]
        }
      ]
    },
    {
      "cell_type": "code",
      "source": [
        "import pandas as pd\n",
        "print(\"Enter 4 numbers, space seperated: \")\n",
        "numbers = input().strip().split()\n",
        "numbers = [float(num) for num in numbers]\n",
        "try:\n",
        "    if len(numbers) != 4:\n",
        "        raise ValueError(\"Give 4 numbers only !!!\")\n",
        "    series = pd.Series(numbers, index = ['a', 'b', 'c', 'd'])\n",
        "    print(\"\\nOriginal Series: \")\n",
        "    print(series)\n",
        "    # doubling the values vector operations\n",
        "    doubled = series * 2\n",
        "    print(\"\\nSeries after doubling the values: \")\n",
        "    print(doubled)\n",
        "    # adding 100 to all values vector operations\n",
        "    added = series + 100\n",
        "    print(\"\\nSeries after adding 100: \")\n",
        "    print(added)\n",
        "except ValueError as e:\n",
        "    print(f\"Error: {e}\")"
      ],
      "metadata": {
        "colab": {
          "base_uri": "https://localhost:8080/"
        },
        "id": "7bkqgv5AQSX3",
        "outputId": "5257332e-6fe7-4679-b69b-a64861369a61"
      },
      "execution_count": null,
      "outputs": [
        {
          "output_type": "stream",
          "name": "stdout",
          "text": [
            "Enter 4 numbers, space seperated: \n",
            "100 200 300 400\n",
            "\n",
            "Original Series: \n",
            "a    100.0\n",
            "b    200.0\n",
            "c    300.0\n",
            "d    400.0\n",
            "dtype: float64\n",
            "\n",
            "Series after doubling the values: \n",
            "a    200.0\n",
            "b    400.0\n",
            "c    600.0\n",
            "d    800.0\n",
            "dtype: float64\n",
            "\n",
            "Series after adding 100: \n",
            "a    200.0\n",
            "b    300.0\n",
            "c    400.0\n",
            "d    500.0\n",
            "dtype: float64\n"
          ]
        }
      ]
    },
    {
      "cell_type": "code",
      "source": [
        "import pandas as pd\n",
        "names = pd.Series(['Apples', 'Oranges', 'Kiwis'])\n",
        "df = names.to_frame(name = 'Names')\n",
        "# add new column\n",
        "df['Price'] = [50, 30, 80]\n",
        "print(df)"
      ],
      "metadata": {
        "colab": {
          "base_uri": "https://localhost:8080/"
        },
        "id": "yvhTt9M8Qfj-",
        "outputId": "e523418a-73e6-4d02-dce4-728f5a5c618f"
      },
      "execution_count": null,
      "outputs": [
        {
          "output_type": "stream",
          "name": "stdout",
          "text": [
            "     Names  Price\n",
            "0   Apples     50\n",
            "1  Oranges     30\n",
            "2    Kiwis     80\n"
          ]
        }
      ]
    },
    {
      "cell_type": "markdown",
      "source": [
        "### Data Frame\n",
        "syntax: DataFrame(data)\n",
        "##### Operations\n",
        " 1. df.head(n) - first n rows\n",
        " 2. df.tail(n) - last n rows\n",
        " 3. df.info() - summary of df\n",
        " 4. df.describe() - statistical summary\n",
        " 5. df.shape() - tuple rows and columns\n",
        " 6. df.dtypes() - data type (column)\n",
        " 7. df.columm() - column name\n",
        " 8. df.drop() - delete column"
      ],
      "metadata": {
        "id": "m9RD9_uBQmpH"
      }
    },
    {
      "cell_type": "code",
      "source": [
        "import pandas as pd\n",
        "data = {\n",
        "    'Name': ['Mark', 'Steve', 'Jenny'],\n",
        "    'Age': [22, 21, 22],\n",
        "    'Branch': ['EEE', 'CSE', 'Mech']\n",
        "}\n",
        "df = pd.DataFrame(data)\n",
        "print(df)"
      ],
      "metadata": {
        "colab": {
          "base_uri": "https://localhost:8080/"
        },
        "id": "KuUFQKqOQj5s",
        "outputId": "648617c4-5fcf-43d7-8d88-fdd31240040c"
      },
      "execution_count": null,
      "outputs": [
        {
          "output_type": "stream",
          "name": "stdout",
          "text": [
            "    Name  Age Branch\n",
            "0   Mark   22    EEE\n",
            "1  Steve   21    CSE\n",
            "2  Jenny   22   Mech\n"
          ]
        }
      ]
    },
    {
      "cell_type": "code",
      "source": [
        "import pandas as pd\n",
        "n = int(input(\"Enter the number of profiles: \"))\n",
        "names = []\n",
        "ages = []\n",
        "branches = []\n",
        "for i in range(n):\n",
        "    print(f\"----Enter {i + 1}----\")\n",
        "    name = input(\"Enter Name: \")\n",
        "    age = input(\"Enter Age: \")\n",
        "    branch = input(\"Enter Branch: \")\n",
        "    names.append(name)\n",
        "    ages.append(age)\n",
        "    branches.append(branch)\n",
        "data = {\n",
        "    'Name': names,\n",
        "    'Age': ages,\n",
        "    'Branch': branches\n",
        "}\n",
        "df = pd.DataFrame(data)\n",
        "print(\"\\nDataFrame created: \")\n",
        "print(df)\n",
        "print(df[['Name', 'Branch']])\n",
        "print(df.iloc[2])\n",
        "df['Stipend'] = ['10000', '11000', '9000']\n",
        "print(df)\n",
        "Stipend = ['10000', '11000', '9000']\n",
        "df.insert(1, 'Salary', Stipend)\n",
        "print(df)\n",
        "df.at[2, 'Age'] = 25\n",
        "print(df)\n",
        "df.drop('Stipend', axis = 1, inplace = True)\n",
        "print(df)"
      ],
      "metadata": {
        "colab": {
          "base_uri": "https://localhost:8080/"
        },
        "id": "Jn3tbsDmQolJ",
        "outputId": "7facfed4-4314-4907-cba5-965a8fe0a15a"
      },
      "execution_count": 1,
      "outputs": [
        {
          "output_type": "stream",
          "name": "stdout",
          "text": [
            "Enter the number of profiles: 3\n",
            "----Enter 1----\n",
            "Enter Name: Suchitra\n",
            "Enter Age: 20\n",
            "Enter Branch: AIM\n",
            "----Enter 2----\n",
            "Enter Name: Roopa\n",
            "Enter Age: 21\n",
            "Enter Branch: CSE\n",
            "----Enter 3----\n",
            "Enter Name: Eswari\n",
            "Enter Age: 21\n",
            "Enter Branch: CSM\n",
            "\n",
            "DataFrame created: \n",
            "       Name Age Branch\n",
            "0  Suchitra  20    AIM\n",
            "1     Roopa  21    CSE\n",
            "2    Eswari  21    CSM\n",
            "       Name Branch\n",
            "0  Suchitra    AIM\n",
            "1     Roopa    CSE\n",
            "2    Eswari    CSM\n",
            "Name      Eswari\n",
            "Age           21\n",
            "Branch       CSM\n",
            "Name: 2, dtype: object\n",
            "       Name Age Branch Stipend\n",
            "0  Suchitra  20    AIM   10000\n",
            "1     Roopa  21    CSE   11000\n",
            "2    Eswari  21    CSM    9000\n",
            "       Name Salary Age Branch Stipend\n",
            "0  Suchitra  10000  20    AIM   10000\n",
            "1     Roopa  11000  21    CSE   11000\n",
            "2    Eswari   9000  21    CSM    9000\n",
            "       Name Salary Age Branch Stipend\n",
            "0  Suchitra  10000  20    AIM   10000\n",
            "1     Roopa  11000  21    CSE   11000\n",
            "2    Eswari   9000  25    CSM    9000\n",
            "       Name Salary Age Branch\n",
            "0  Suchitra  10000  20    AIM\n",
            "1     Roopa  11000  21    CSE\n",
            "2    Eswari   9000  25    CSM\n"
          ]
        }
      ]
    },
    {
      "cell_type": "markdown",
      "source": [
        "### Accessing csv File"
      ],
      "metadata": {
        "id": "HXz3XBVC0eDX"
      }
    },
    {
      "cell_type": "code",
      "source": [
        "import pandas as pd\n",
        "import numpy as np\n",
        "data = {\n",
        "    'Patient_ID': ['P001', 'P002', 'P003', 'P004', 'P005', 'P006'],\n",
        "    'Name': ['Vijay', 'Ajay', 'Kiran', 'Amith', 'Suresh', None],\n",
        "    'Age': [34, 30, None, 60, 25, 50],\n",
        "    'Department': ['Carona', 'Cancer', 'Neurology', 'Cardiology', 'Cancer', 'ICU'],\n",
        "    'Admission_Date': ['2025-01-15', '2025-02-10', '2025-03-03', '2025-01-22', '2025-04-06', '2025-08-06'],\n",
        "    'Bill': [7000.80, 76000.00, 10000.00, 200000.00, 80000.00, None]\n",
        "}\n",
        "df = pd.DataFrame(data)\n",
        "df.to_csv('hospital_data.csv', index = False)\n",
        "print(\"Created data Successfully...\")"
      ],
      "metadata": {
        "id": "PGrfeQguQqB1",
        "colab": {
          "base_uri": "https://localhost:8080/"
        },
        "outputId": "7f81d4a3-56de-4a28-8abc-8d076066b4cd"
      },
      "execution_count": 2,
      "outputs": [
        {
          "output_type": "stream",
          "name": "stdout",
          "text": [
            "Created data Successfully...\n"
          ]
        }
      ]
    },
    {
      "cell_type": "code",
      "source": [
        "try:\n",
        "    df = pd.read_csv('hospital_data.csv')\n",
        "    print(\"\\n Hospital Data: \")\n",
        "    print(df)\n",
        "    # Display basic info\n",
        "    print(\"\\nDataFrame INFO: \")\n",
        "    print(df.info())\n",
        "    print(\"\\nSummary Statistics: \")\n",
        "    print(df.describe())\n",
        "except FileNotFoundError:\n",
        "    print(\"Error: 'hospital_data.csv' not found.\")"
      ],
      "metadata": {
        "colab": {
          "base_uri": "https://localhost:8080/"
        },
        "id": "ScnMa8Op0gHh",
        "outputId": "7845d56c-8ecc-4b45-e42e-a6cd7f292ba1"
      },
      "execution_count": 3,
      "outputs": [
        {
          "output_type": "stream",
          "name": "stdout",
          "text": [
            "\n",
            " Hospital Data: \n",
            "  Patient_ID    Name   Age  Department Admission_Date      Bill\n",
            "0       P001   Vijay  34.0      Carona     2025-01-15    7000.8\n",
            "1       P002    Ajay  30.0      Cancer     2025-02-10   76000.0\n",
            "2       P003   Kiran   NaN   Neurology     2025-03-03   10000.0\n",
            "3       P004   Amith  60.0  Cardiology     2025-01-22  200000.0\n",
            "4       P005  Suresh  25.0      Cancer     2025-04-06   80000.0\n",
            "5       P006     NaN  50.0         ICU     2025-08-06       NaN\n",
            "\n",
            "DataFrame INFO: \n",
            "<class 'pandas.core.frame.DataFrame'>\n",
            "RangeIndex: 6 entries, 0 to 5\n",
            "Data columns (total 6 columns):\n",
            " #   Column          Non-Null Count  Dtype  \n",
            "---  ------          --------------  -----  \n",
            " 0   Patient_ID      6 non-null      object \n",
            " 1   Name            5 non-null      object \n",
            " 2   Age             5 non-null      float64\n",
            " 3   Department      6 non-null      object \n",
            " 4   Admission_Date  6 non-null      object \n",
            " 5   Bill            5 non-null      float64\n",
            "dtypes: float64(2), object(4)\n",
            "memory usage: 420.0+ bytes\n",
            "None\n",
            "\n",
            "Summary Statistics: \n",
            "             Age           Bill\n",
            "count   5.000000       5.000000\n",
            "mean   39.800000   74600.160000\n",
            "std    14.669697   78260.928695\n",
            "min    25.000000    7000.800000\n",
            "25%    30.000000   10000.000000\n",
            "50%    34.000000   76000.000000\n",
            "75%    50.000000   80000.000000\n",
            "max    60.000000  200000.000000\n"
          ]
        }
      ]
    },
    {
      "cell_type": "code",
      "source": [
        "import pandas as pd\n",
        "try:\n",
        "    df = pd.read_csv('hospital_data.csv')\n",
        "    print(\"\\nOriginal Hospital DataFrame: \")\n",
        "    print(df)\n",
        "    # Chack missing values\n",
        "    print(\"\\nMissing Values: \")\n",
        "    print(df.isna())\n",
        "    # Filling name by unknown, value by 0\n",
        "    df_filled = df.copy()\n",
        "    df_filled['Name'] = df_filled['Name'].fillna('Unknown')\n",
        "    df_filled['Age'] = df_filled['Age'].fillna(df_filled['Age'].mean())\n",
        "    df_filled['Bill'] = df_filled['Bill'].fillna(0)\n",
        "    print(\"\\nDataframe after filling by default: \")\n",
        "    print(df_filled)\n",
        "except FileNotFoundError:\n",
        "    print(\"Error: 'hospital_data.csv' not found.\")"
      ],
      "metadata": {
        "colab": {
          "base_uri": "https://localhost:8080/"
        },
        "id": "obOvPnEb0ij0",
        "outputId": "de9353ad-37ad-4428-c82b-5e9bcef8acb4"
      },
      "execution_count": 4,
      "outputs": [
        {
          "output_type": "stream",
          "name": "stdout",
          "text": [
            "\n",
            "Original Hospital DataFrame: \n",
            "  Patient_ID    Name   Age  Department Admission_Date      Bill\n",
            "0       P001   Vijay  34.0      Carona     2025-01-15    7000.8\n",
            "1       P002    Ajay  30.0      Cancer     2025-02-10   76000.0\n",
            "2       P003   Kiran   NaN   Neurology     2025-03-03   10000.0\n",
            "3       P004   Amith  60.0  Cardiology     2025-01-22  200000.0\n",
            "4       P005  Suresh  25.0      Cancer     2025-04-06   80000.0\n",
            "5       P006     NaN  50.0         ICU     2025-08-06       NaN\n",
            "\n",
            "Missing Values: \n",
            "   Patient_ID   Name    Age  Department  Admission_Date   Bill\n",
            "0       False  False  False       False           False  False\n",
            "1       False  False  False       False           False  False\n",
            "2       False  False   True       False           False  False\n",
            "3       False  False  False       False           False  False\n",
            "4       False  False  False       False           False  False\n",
            "5       False   True  False       False           False   True\n",
            "\n",
            "Dataframe after filling by default: \n",
            "  Patient_ID     Name   Age  Department Admission_Date      Bill\n",
            "0       P001    Vijay  34.0      Carona     2025-01-15    7000.8\n",
            "1       P002     Ajay  30.0      Cancer     2025-02-10   76000.0\n",
            "2       P003    Kiran  39.8   Neurology     2025-03-03   10000.0\n",
            "3       P004    Amith  60.0  Cardiology     2025-01-22  200000.0\n",
            "4       P005   Suresh  25.0      Cancer     2025-04-06   80000.0\n",
            "5       P006  Unknown  50.0         ICU     2025-08-06       0.0\n"
          ]
        }
      ]
    },
    {
      "cell_type": "code",
      "source": [
        "import pandas as pd\n",
        "try:\n",
        "    df = pd.read_csv('hospital_data.csv')\n",
        "    print(\"\\nOriginal Hospital DataFrame: \")\n",
        "    print(df)\n",
        "    # grouping by department\n",
        "    grouped = df.groupby('Department')['Bill'].mean()\n",
        "    print(\"\\nAverage Medical Cost by Department: \")\n",
        "    print(grouped)\n",
        "except FileNotFoundError:\n",
        "    print(\"Error: 'hospital_data.csv' not found.\")"
      ],
      "metadata": {
        "colab": {
          "base_uri": "https://localhost:8080/"
        },
        "id": "UZVeGM_E0lLU",
        "outputId": "9ecf87b0-be3d-4fdc-bacc-c398dcaaaaa9"
      },
      "execution_count": 5,
      "outputs": [
        {
          "output_type": "stream",
          "name": "stdout",
          "text": [
            "\n",
            "Original Hospital DataFrame: \n",
            "  Patient_ID    Name   Age  Department Admission_Date      Bill\n",
            "0       P001   Vijay  34.0      Carona     2025-01-15    7000.8\n",
            "1       P002    Ajay  30.0      Cancer     2025-02-10   76000.0\n",
            "2       P003   Kiran   NaN   Neurology     2025-03-03   10000.0\n",
            "3       P004   Amith  60.0  Cardiology     2025-01-22  200000.0\n",
            "4       P005  Suresh  25.0      Cancer     2025-04-06   80000.0\n",
            "5       P006     NaN  50.0         ICU     2025-08-06       NaN\n",
            "\n",
            "Average Medical Cost by Department: \n",
            "Department\n",
            "Cancer         78000.0\n",
            "Cardiology    200000.0\n",
            "Carona          7000.8\n",
            "ICU                NaN\n",
            "Neurology      10000.0\n",
            "Name: Bill, dtype: float64\n"
          ]
        }
      ]
    },
    {
      "cell_type": "code",
      "source": [
        "import pandas as pd\n",
        "try:\n",
        "    df = pd.read_csv('hospital_data.csv')\n",
        "    print(\"\\nOriginal Hospital DataFrame: \")\n",
        "    print(df)\n",
        "    # add discount_cost column (10% discount)\n",
        "    df['Discount'] = df['Bill'] * 0.9\n",
        "    # sorting by bill\n",
        "    sorted_df = df.sort_values('Bill', ascending = False)\n",
        "    print(\"\\nSorted by Medical Bill (descending order): \")\n",
        "    print(sorted_df)\n",
        "except FileExistsError:\n",
        "    print(\"Error: 'hospital_data.csv' not found.\")"
      ],
      "metadata": {
        "colab": {
          "base_uri": "https://localhost:8080/"
        },
        "id": "Iki64Dne0opw",
        "outputId": "bd80f927-d14c-4870-886a-6fd3750735d3"
      },
      "execution_count": 6,
      "outputs": [
        {
          "output_type": "stream",
          "name": "stdout",
          "text": [
            "\n",
            "Original Hospital DataFrame: \n",
            "  Patient_ID    Name   Age  Department Admission_Date      Bill\n",
            "0       P001   Vijay  34.0      Carona     2025-01-15    7000.8\n",
            "1       P002    Ajay  30.0      Cancer     2025-02-10   76000.0\n",
            "2       P003   Kiran   NaN   Neurology     2025-03-03   10000.0\n",
            "3       P004   Amith  60.0  Cardiology     2025-01-22  200000.0\n",
            "4       P005  Suresh  25.0      Cancer     2025-04-06   80000.0\n",
            "5       P006     NaN  50.0         ICU     2025-08-06       NaN\n",
            "\n",
            "Sorted by Medical Bill (descending order): \n",
            "  Patient_ID    Name   Age  Department Admission_Date      Bill   Discount\n",
            "3       P004   Amith  60.0  Cardiology     2025-01-22  200000.0  180000.00\n",
            "4       P005  Suresh  25.0      Cancer     2025-04-06   80000.0   72000.00\n",
            "1       P002    Ajay  30.0      Cancer     2025-02-10   76000.0   68400.00\n",
            "2       P003   Kiran   NaN   Neurology     2025-03-03   10000.0    9000.00\n",
            "0       P001   Vijay  34.0      Carona     2025-01-15    7000.8    6300.72\n",
            "5       P006     NaN  50.0         ICU     2025-08-06       NaN        NaN\n"
          ]
        }
      ]
    },
    {
      "cell_type": "code",
      "source": [
        "import pandas as pd\n",
        "try:\n",
        "    df = pd.read_csv('hospital_data.csv')\n",
        "    print(\"\\nOriginal Hospital DataFrame: \")\n",
        "    print(df)\n",
        "    # Add a status column, based on age\n",
        "    df['Status'] = df['Age'].apply(lambda x: 'Senior' if x >= 50 else 'Adult' if x >= 18 else 'UnKnown')\n",
        "    print(\"\\nDataFrame with Status column: \")\n",
        "    print(df)\n",
        "    # Saving to csv file\n",
        "    df.to_csv('hospital_data_updated.csv', index = False)\n",
        "    print(\"\\nModified Dataframe saved to 'hospital_data_updated.csv'\")\n",
        "except FileExistsError:\n",
        "    print(\"Error: 'hospital_data.csv' not found.\")"
      ],
      "metadata": {
        "colab": {
          "base_uri": "https://localhost:8080/"
        },
        "id": "W2d497Mc0qwc",
        "outputId": "333a6f31-b7cd-422a-d7b4-03f067511fc5"
      },
      "execution_count": 7,
      "outputs": [
        {
          "output_type": "stream",
          "name": "stdout",
          "text": [
            "\n",
            "Original Hospital DataFrame: \n",
            "  Patient_ID    Name   Age  Department Admission_Date      Bill\n",
            "0       P001   Vijay  34.0      Carona     2025-01-15    7000.8\n",
            "1       P002    Ajay  30.0      Cancer     2025-02-10   76000.0\n",
            "2       P003   Kiran   NaN   Neurology     2025-03-03   10000.0\n",
            "3       P004   Amith  60.0  Cardiology     2025-01-22  200000.0\n",
            "4       P005  Suresh  25.0      Cancer     2025-04-06   80000.0\n",
            "5       P006     NaN  50.0         ICU     2025-08-06       NaN\n",
            "\n",
            "DataFrame with Status column: \n",
            "  Patient_ID    Name   Age  Department Admission_Date      Bill   Status\n",
            "0       P001   Vijay  34.0      Carona     2025-01-15    7000.8    Adult\n",
            "1       P002    Ajay  30.0      Cancer     2025-02-10   76000.0    Adult\n",
            "2       P003   Kiran   NaN   Neurology     2025-03-03   10000.0  UnKnown\n",
            "3       P004   Amith  60.0  Cardiology     2025-01-22  200000.0   Senior\n",
            "4       P005  Suresh  25.0      Cancer     2025-04-06   80000.0    Adult\n",
            "5       P006     NaN  50.0         ICU     2025-08-06       NaN   Senior\n",
            "\n",
            "Modified Dataframe saved to 'hospital_data_updated.csv'\n"
          ]
        }
      ]
    },
    {
      "cell_type": "code",
      "source": [
        "import pandas as pd\n",
        "try:\n",
        "    df = pd.read_csv('hospital_data.csv')\n",
        "    series = df['Bill']\n",
        "    print(\"\\nOriginal Hospital DataFrame: \")\n",
        "    print(series)\n",
        "    # User manual input\n",
        "    print(\"\\nEnter Patient ID to update: \")\n",
        "    patient_id = input().strip()\n",
        "    print(\"Enter new Bill for {patient_id}: \")\n",
        "    new_cost = float(input())\n",
        "    # updating bill series and save\n",
        "    if patient_id in df['Patient_ID'].values:\n",
        "        index = df[df['Patient_ID'] == patient_id].index[0]\n",
        "        series[index] = new_cost\n",
        "        print(\"\\nUpdated Medical Bill series: \")\n",
        "        print(series)\n",
        "        # Update DataFrame and save\n",
        "        df['Bill'] = series\n",
        "        df.to_csv('hospital_data.csv', index = False)\n",
        "        print(\"\\nUpdated CSV saved to 'hospital_data.csv'.\")\n",
        "    else:\n",
        "        print(f\"Error: patient ID '{patient_id}' not found\")\n",
        "    '''\n",
        "    df['Bill'] = series\n",
        "    df.to_csv('hospitaldata.csv', index = False)\n",
        "    print(\"\\nUpdated CSV saved to 'hospitaldata.csv'\")'''\n",
        "except FileExistsError:\n",
        "    print(\"Error: 'hospital_data.csv' not found.\")"
      ],
      "metadata": {
        "colab": {
          "base_uri": "https://localhost:8080/"
        },
        "id": "DMIDHFqY0swA",
        "outputId": "cddf5b05-6b03-42bd-8828-7673504a8c80"
      },
      "execution_count": 8,
      "outputs": [
        {
          "output_type": "stream",
          "name": "stdout",
          "text": [
            "\n",
            "Original Hospital DataFrame: \n",
            "0      7000.8\n",
            "1     76000.0\n",
            "2     10000.0\n",
            "3    200000.0\n",
            "4     80000.0\n",
            "5         NaN\n",
            "Name: Bill, dtype: float64\n",
            "\n",
            "Enter Patient ID to update: \n",
            "P001\n",
            "Enter new Bill for {patient_id}: \n",
            "7700\n",
            "\n",
            "Updated Medical Bill series: \n",
            "0      7700.0\n",
            "1     76000.0\n",
            "2     10000.0\n",
            "3    200000.0\n",
            "4     80000.0\n",
            "5         NaN\n",
            "Name: Bill, dtype: float64\n",
            "\n",
            "Updated CSV saved to 'hospital_data.csv'.\n"
          ]
        },
        {
          "output_type": "stream",
          "name": "stderr",
          "text": [
            "/tmp/ipython-input-505823797.py:15: SettingWithCopyWarning: \n",
            "A value is trying to be set on a copy of a slice from a DataFrame\n",
            "\n",
            "See the caveats in the documentation: https://pandas.pydata.org/pandas-docs/stable/user_guide/indexing.html#returning-a-view-versus-a-copy\n",
            "  series[index] = new_cost\n"
          ]
        }
      ]
    },
    {
      "cell_type": "markdown",
      "source": [
        "### Data Cleaning\n",
        "\n",
        "1. **Handling missing data (NaN)**\n",
        "   * `isna()` - identify missing value\n",
        "   * `fillna()` - specific value\n",
        "   * `dropna()` - delete missing value\n",
        "\n",
        "2. **Remove Duplicate Values**\n",
        "   * `duplicated()` - checks duplicates\n",
        "   * `drop_duplicates()` - removes duplicate rows\n",
        "\n",
        "3. **Correcting invalid data**\n",
        "   * Examples: 12/12/2025 dates, ages, cost(-ve)\n",
        "   * `clip()` - constrain values within range\n",
        "\n",
        "4. **Standardizing / Normalizing string data**\n",
        "   * `str.lower()` - convert to lowercase\n",
        "   * `str.upper()` - convert to uppercase\n",
        "   * `str.strip()` - remove whitespace\n",
        "   * `str.replace()` - replace substrings\n",
        "\n",
        "5. **Data Conversion**\n",
        "   * `pd.to_numeric()` - convert to numbers\n",
        "   * `pd.to_datetime()` - convert to dates\n",
        "   * `errors = 'coerce'` - handle conversion errors"
      ],
      "metadata": {
        "id": "NdDVQxYG00hY"
      }
    },
    {
      "cell_type": "code",
      "source": [
        "import pandas as pd\n",
        "try:\n",
        "    df = pd.read_csv('hospital_data.csv')\n",
        "    series = df['Name']\n",
        "    print(\"\\nOriginal Name Series: \")\n",
        "    print(series)\n",
        "    clean_series = series.str.title().str.strip()\n",
        "    print(\"Name series after standardizing with (title case, strripped space): \")\n",
        "    print(clean_series)\n",
        "    # saving to csv dataframe\n",
        "    df['Name'] = clean_series\n",
        "    df.to_csv('hospital_data.csv', index = False)\n",
        "    print(\"Data saved to csv file\")\n",
        "except FileNotFoundError:\n",
        "    print(\"Error: 'hospital_data.csv' not found.\")"
      ],
      "metadata": {
        "colab": {
          "base_uri": "https://localhost:8080/"
        },
        "id": "1KebVl0I0urT",
        "outputId": "39f225f0-add3-4e01-dd73-8bc8727f6f86"
      },
      "execution_count": 9,
      "outputs": [
        {
          "output_type": "stream",
          "name": "stdout",
          "text": [
            "\n",
            "Original Name Series: \n",
            "0     Vijay\n",
            "1      Ajay\n",
            "2     Kiran\n",
            "3     Amith\n",
            "4    Suresh\n",
            "5       NaN\n",
            "Name: Name, dtype: object\n",
            "Name series after standardizing with (title case, strripped space): \n",
            "0     Vijay\n",
            "1      Ajay\n",
            "2     Kiran\n",
            "3     Amith\n",
            "4    Suresh\n",
            "5       NaN\n",
            "Name: Name, dtype: object\n",
            "Data saved to csv file\n"
          ]
        }
      ]
    },
    {
      "cell_type": "code",
      "source": [
        "import pandas as pd\n",
        "import numpy as np\n",
        "try:\n",
        "    df = pd.read_csv('hospital_data.csv')\n",
        "    series = df['Age']\n",
        "    print(\"\\nOriginal Age Series: \")\n",
        "    print(series)\n",
        "    # Replace invalid ages, < 0 or > 120 with NaN\n",
        "    clean_series = series.where((series >= 0) & (series <= 120), np.nan)\n",
        "    print(\"\\nAge series after replacing invalid ages with NaN: \")\n",
        "    print(clean_series)\n",
        "    df['Age'] = clean_series\n",
        "    df.to_csv('hospital_data.csv', index = False)\n",
        "    print(\"\\nUpdated csv saved to 'hospital_data.csv'.\")\n",
        "except FileNotFoundError:\n",
        "    print(\"Error: 'hospital_data.csv' not found.\")"
      ],
      "metadata": {
        "colab": {
          "base_uri": "https://localhost:8080/"
        },
        "id": "9TR6Af2m03a5",
        "outputId": "fa7e8a7a-200a-40b5-c367-0db3ee1fc8ff"
      },
      "execution_count": 10,
      "outputs": [
        {
          "output_type": "stream",
          "name": "stdout",
          "text": [
            "\n",
            "Original Age Series: \n",
            "0    34.0\n",
            "1    30.0\n",
            "2     NaN\n",
            "3    60.0\n",
            "4    25.0\n",
            "5    50.0\n",
            "Name: Age, dtype: float64\n",
            "\n",
            "Age series after replacing invalid ages with NaN: \n",
            "0    34.0\n",
            "1    30.0\n",
            "2     NaN\n",
            "3    60.0\n",
            "4    25.0\n",
            "5    50.0\n",
            "Name: Age, dtype: float64\n",
            "\n",
            "Updated csv saved to 'hospital_data.csv'.\n"
          ]
        }
      ]
    },
    {
      "cell_type": "code",
      "source": [
        "import pandas as pd\n",
        "try:\n",
        "    df = pd.read_csv('hospital_data.csv')\n",
        "    series = df['Admission_Date']\n",
        "    print(\"\\nOriginal Admission Data Series: \")\n",
        "    print(series)\n",
        "    # Convert string to datetime\n",
        "    date_series = pd.to_datetime(series, format = '%Y-%m-%d', errors = 'coerce')\n",
        "    print(\"\\nAdmission Date Series after converting to datetime: \")\n",
        "    print(date_series)\n",
        "    # update and save the dataframe\n",
        "    df['Admission_Data'] = date_series\n",
        "    df.to_csv('hospital_data.csv', index = False)\n",
        "    print(\"\\nUpdated csv saved to 'hospital_data.csv'.\")\n",
        "except FileNotFoundError:\n",
        "    print(\"Error: 'hospital_data.csv' not found.\")"
      ],
      "metadata": {
        "colab": {
          "base_uri": "https://localhost:8080/"
        },
        "id": "et-ooEDe05KX",
        "outputId": "a834d770-e14b-4e65-a432-d5d97fcd4f53"
      },
      "execution_count": 11,
      "outputs": [
        {
          "output_type": "stream",
          "name": "stdout",
          "text": [
            "\n",
            "Original Admission Data Series: \n",
            "0    2025-01-15\n",
            "1    2025-02-10\n",
            "2    2025-03-03\n",
            "3    2025-01-22\n",
            "4    2025-04-06\n",
            "5    2025-08-06\n",
            "Name: Admission_Date, dtype: object\n",
            "\n",
            "Admission Date Series after converting to datetime: \n",
            "0   2025-01-15\n",
            "1   2025-02-10\n",
            "2   2025-03-03\n",
            "3   2025-01-22\n",
            "4   2025-04-06\n",
            "5   2025-08-06\n",
            "Name: Admission_Date, dtype: datetime64[ns]\n",
            "\n",
            "Updated csv saved to 'hospital_data.csv'.\n"
          ]
        }
      ]
    },
    {
      "cell_type": "code",
      "source": [
        "import pandas as pd\n",
        "try:\n",
        "    df = pd.read_csv('hospital_data.csv')\n",
        "    series = df['Admission_Data']\n",
        "    print(\"\\nOriginal Admission Data Series: \")\n",
        "    print(series)\n",
        "    print(\"\\nConvert Admission date format from y/m.d to d/m/y: \")\n",
        "    confirm = input().strip().lower()\n",
        "    if confirm == 'yes':\n",
        "        date_series = pd.to_datetime(series, format = '%Y-%m-%d')\n",
        "        f_series = date_series.dt.strftime('%d-%m-%Y')\n",
        "        print(\"\\nAdmission date series after conversion to DD-MM-YY: \")\n",
        "        print(f_series)\n",
        "        # update and save the dataframe\n",
        "        df['Admission_Data'] = f_series\n",
        "        df.to_csv('hospital_data.csv', index = False)\n",
        "        print(\"\\nUpdated csv saved to 'hospital_data.csv'.\")\n",
        "    else:\n",
        "        print(\"\\nUpdated format conversion cancelled.\")\n",
        "except FileNotFoundError:\n",
        "    print(\"Error: 'hospital_data.csv' not found.\")"
      ],
      "metadata": {
        "colab": {
          "base_uri": "https://localhost:8080/"
        },
        "id": "1V3t3QIc07GA",
        "outputId": "97db946f-38db-4ab3-b3e0-a7ce0daa58df"
      },
      "execution_count": 12,
      "outputs": [
        {
          "output_type": "stream",
          "name": "stdout",
          "text": [
            "\n",
            "Original Admission Data Series: \n",
            "0    2025-01-15\n",
            "1    2025-02-10\n",
            "2    2025-03-03\n",
            "3    2025-01-22\n",
            "4    2025-04-06\n",
            "5    2025-08-06\n",
            "Name: Admission_Data, dtype: object\n",
            "\n",
            "Convert Admission date format from y/m.d to d/m/y: \n",
            "yes\n",
            "\n",
            "Admission date series after conversion to DD-MM-YY: \n",
            "0    15-01-2025\n",
            "1    10-02-2025\n",
            "2    03-03-2025\n",
            "3    22-01-2025\n",
            "4    06-04-2025\n",
            "5    06-08-2025\n",
            "Name: Admission_Data, dtype: object\n",
            "\n",
            "Updated csv saved to 'hospital_data.csv'.\n"
          ]
        }
      ]
    },
    {
      "cell_type": "code",
      "source": [],
      "metadata": {
        "id": "7TIAgqie1ZWs"
      },
      "execution_count": null,
      "outputs": []
    }
  ]
}