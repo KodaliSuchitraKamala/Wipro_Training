{
  "nbformat": 4,
  "nbformat_minor": 0,
  "metadata": {
    "colab": {
      "provenance": [],
      "authorship_tag": "ABX9TyPWaNDOQevErsi4DxZQc1EH",
      "include_colab_link": true
    },
    "kernelspec": {
      "name": "python3",
      "display_name": "Python 3"
    },
    "language_info": {
      "name": "python"
    }
  },
  "cells": [
    {
      "cell_type": "markdown",
      "metadata": {
        "id": "view-in-github",
        "colab_type": "text"
      },
      "source": [
        "<a href=\"https://colab.research.google.com/github/KodaliSuchitraKamala/Wipro_Training/blob/main/FileHandlingCommandLineArguments.ipynb\" target=\"_parent\"><img src=\"https://colab.research.google.com/assets/colab-badge.svg\" alt=\"Open In Colab\"/></a>"
      ]
    },
    {
      "cell_type": "markdown",
      "source": [
        "File Methods\n",
        " - fileno() - file number in your tool\n",
        " - flush() - clears the write buffer from I/P\n",
        " - isatty() - returns boolean O/P, file stream is interactive or not\n",
        " - readline(n) - particular line\n",
        " - truncate(n) -reallocates the file size byte\n",
        " - rstrip()"
      ],
      "metadata": {
        "id": "jgpBFWSOExlq"
      }
    },
    {
      "cell_type": "markdown",
      "source": [
        "IO operations/handling\n",
        " - ASCII testfiles - reading writing append characters\n",
        "   1. character is stored in the form of binary values\n",
        " - functions for opening and closing the file\n",
        "    syntax\n",
        "     - fileobj = open(filename[, access_mode])\n",
        "    access modes\n",
        "     - r - default mode for opening a file which opens the file for reading only\n",
        "     - rb - opens file in binary format\n",
        "     - r+ - opens both reading / writing\n",
        "     - rb+ - opens both reading / writing in binary format\n",
        "     - w - opens writing format creates a file ont that name when destination is not provided\n",
        "     - wb - binary format / write\n",
        "     - w+ - reading / writing\n",
        "     - wb+ - both read write in binary format\n",
        "     - a - append opens a file to append the data\n",
        "     - ab - append binary data\n",
        "     - a+ - reading and append\n",
        "     - ab+ - reading and appending pf binary data\n",
        "\n",
        "file obj attributes\n",
        "fileobj.closed - ret - return true if the file is closed and false potherwise\n",
        "fileobj.mode - opening access\n",
        "fileobj.name - return the file name"
      ],
      "metadata": {
        "id": "wRnGWcE2E0YQ"
      }
    },
    {
      "cell_type": "code",
      "execution_count": 1,
      "metadata": {
        "id": "_6yj-EM2EqC8"
      },
      "outputs": [],
      "source": [
        "\"\"\"\n",
        "file = open('File.txt', \"rb\")\n",
        "print(file)\n",
        "with open('File.txt', \"r\") as file:\n",
        "    content = file.read()\n",
        "    print(content)\n",
        "with open('File.txt', \"w\") as file:\n",
        "    file.write(\"Wipro, TCS, Capgemini \\n\")\n",
        "    file.write(\"Google, Microsoft, CAT \\n\")\n",
        "    file.write(\"Tech Mahindra, L&T, HCL \\n\")\n",
        "\"\"\"\n",
        "with open('File.txt', \"a\") as file:\n",
        "    file.write(\"This is the appended data \\n\")"
      ]
    },
    {
      "cell_type": "code",
      "source": [
        "\"\"\"\n",
        "with open('File.txt', 'r+') as file:\n",
        "    content = file.read()\n",
        "    file.seek(0)\n",
        "    file.write(\"Modification done here\")\n",
        "\"\"\"\n",
        "with open('File.txt', 'a+') as file:\n",
        "    file.write('\\n Appended Data')\n",
        "    file.seek(0)\n",
        "    print(file.read())"
      ],
      "metadata": {
        "colab": {
          "base_uri": "https://localhost:8080/"
        },
        "id": "X80NNAVfE21T",
        "outputId": "27b61992-6557-4d9e-a962-604e68c9a288"
      },
      "execution_count": 2,
      "outputs": [
        {
          "output_type": "stream",
          "name": "stdout",
          "text": [
            "This is the appended data \n",
            "\n",
            " Appended Data\n"
          ]
        }
      ]
    },
    {
      "cell_type": "code",
      "source": [
        "\"\"\"\n",
        "with open('File.txt','r') as file:\n",
        "    lines = file.readlines()\n",
        "print(\"List of lines: \", lines)\n",
        "\n",
        "with open('File.txt','r') as file:\n",
        "    lines = file.readlines()\n",
        "\n",
        "for line in lines:\n",
        "    print(line.strip())\n",
        "\n",
        "with open('File.txt', 'r') as file:\n",
        "    seperate_lines = [line.strip() for line in file. readlines()]\n",
        "    print(seperate_lines)\n",
        "\n",
        "# close() - manually\n",
        "\"\"\"\n",
        "file = open('File.txt', 'r')\n",
        "print(file.closed)\n",
        "file.close()\n",
        "print(file.closed)\n"
      ],
      "metadata": {
        "colab": {
          "base_uri": "https://localhost:8080/"
        },
        "id": "9ROJ43CPE5u8",
        "outputId": "c4ff21a2-920a-483b-c6f4-2df2b3a83e2f"
      },
      "execution_count": 3,
      "outputs": [
        {
          "output_type": "stream",
          "name": "stdout",
          "text": [
            "False\n",
            "True\n"
          ]
        }
      ]
    },
    {
      "cell_type": "code",
      "source": [
        "\"\"\"\n",
        "with open('File.txt','r') as file:\n",
        "    lines = file.readlines()\n",
        "print(\"List of lines: \", lines)\n",
        "\n",
        "with open('File.txt','r') as file:\n",
        "    lines = file.readlines()\n",
        "\n",
        "for line in lines:\n",
        "    print(line.strip())\n",
        "\n",
        "with open('File.txt', 'r') as file:\n",
        "    seperate_lines = [line.strip() for line in file. readlines()]\n",
        "    print(seperate_lines)\n",
        "\n",
        "# close() - manually\n",
        "\"\"\"\n",
        "file = open('File.txt', 'r')\n",
        "print(file.closed)\n",
        "file.close()\n",
        "print(file.closed)"
      ],
      "metadata": {
        "colab": {
          "base_uri": "https://localhost:8080/"
        },
        "id": "Rg5iZN4gE8_6",
        "outputId": "dadedd62-af1a-42ec-a9e3-1091b61276c1"
      },
      "execution_count": 4,
      "outputs": [
        {
          "output_type": "stream",
          "name": "stdout",
          "text": [
            "False\n",
            "True\n"
          ]
        }
      ]
    },
    {
      "cell_type": "code",
      "source": [
        "\"\"\"\n",
        "Write a Program to create a text filr access the text file data and use the\n",
        "data to split the lines into series of words and use space to perform\n",
        "split operation\n",
        "sample.txt\n",
        "Hello students\n",
        "How are you today\n",
        "Output\n",
        "['Hello', 'students', 'how', 'are', 'you', 'today']\n",
        "\"\"\"\n",
        "with open('sample.txt', 'w') as file:\n",
        "    file.write('Hello students\\n')\n",
        "    file.write('How are you today')\n",
        "words = []\n",
        "with open('sample.txt', 'r') as file:\n",
        "    for line in file:\n",
        "        words.extend(line.strip().split())\n",
        "print([word.lower() for word in words])"
      ],
      "metadata": {
        "colab": {
          "base_uri": "https://localhost:8080/"
        },
        "id": "hggQwxKHE_Yf",
        "outputId": "ce60082d-5a3d-4d49-b3e4-8c8260e88056"
      },
      "execution_count": 5,
      "outputs": [
        {
          "output_type": "stream",
          "name": "stdout",
          "text": [
            "['hello', 'students', 'how', 'are', 'you', 'today']\n"
          ]
        }
      ]
    },
    {
      "cell_type": "code",
      "source": [
        "try:\n",
        "    file = open(\"File1.txt\")\n",
        "    str = file.readline()\n",
        "    print(str)\n",
        "    file = open(\"File.txt\")\n",
        "    str = file.readline()\n",
        "    print(str)\n",
        "except IOError:\n",
        "    print(\"Error occured during input take......\")\n",
        "else:\n",
        "    print(\"Successfully fetch the data......\")"
      ],
      "metadata": {
        "colab": {
          "base_uri": "https://localhost:8080/"
        },
        "id": "H-ovB5nqFCLa",
        "outputId": "f5468d21-742b-48d6-b168-6f3e99e349be"
      },
      "execution_count": 7,
      "outputs": [
        {
          "output_type": "stream",
          "name": "stdout",
          "text": [
            "Error occured during input take......\n"
          ]
        }
      ]
    },
    {
      "cell_type": "code",
      "source": [
        "\"\"\"\n",
        "data = b'This is a sample of binary data'\n",
        "with open(\"binary_file.bin\", 'wb') as file:\n",
        "    file.write(data)\n",
        "\"\"\"\n",
        "with open(\"binary_file.bin\", 'rb') as file:\n",
        "    content = file.read()\n",
        "    print(content)"
      ],
      "metadata": {
        "colab": {
          "base_uri": "https://localhost:8080/"
        },
        "id": "HHvbtieHFKGZ",
        "outputId": "30c7ce30-abe5-4896-c77d-169904f1d103"
      },
      "execution_count": 10,
      "outputs": [
        {
          "output_type": "stream",
          "name": "stdout",
          "text": [
            "b'This is a sample of binary data'\n"
          ]
        }
      ]
    },
    {
      "cell_type": "markdown",
      "source": [
        "### Command Line Arguments\n",
        " 1. sys args\n"
      ],
      "metadata": {
        "id": "haXDF26yFh2p"
      }
    },
    {
      "cell_type": "code",
      "source": [
        "import argparse\n",
        "import sys\n",
        "parser = argparse.ArgumentParser(description=\"Add 2 Numbers\")\n",
        "parser.add_argument('--x', type=int, required=True, help=\"First number\")\n",
        "parser.add_argument('--y', type=int, required=True, help=\"Second number\")\n",
        "\n",
        "try:\n",
        "    args = parser.parse_args(['--x', '10', '--y', '20']) # Replace with desired arguments\n",
        "    result = args.x + args.y\n",
        "    print(\"Sum is: \", result)\n",
        "except SystemExit as e:\n",
        "    print(f\"Argparse exited: {e}\")\n",
        "except ValueError:\n",
        "    print(\"Error: Invalid argument type.\")"
      ],
      "metadata": {
        "colab": {
          "base_uri": "https://localhost:8080/"
        },
        "id": "TCFUeU8zFK_I",
        "outputId": "d530c0e9-6749-4751-8a39-b253f85ab676"
      },
      "execution_count": 11,
      "outputs": [
        {
          "output_type": "stream",
          "name": "stdout",
          "text": [
            "Sum is:  30\n"
          ]
        }
      ]
    },
    {
      "cell_type": "code",
      "source": [
        "# Calculator using Parse\n",
        "import argparse\n",
        "parser = argparse.ArgumentParser(description = \"Simple Calculator\")\n",
        "parser.add_argument('--x', type = int, required = True, help = \"First number\")\n",
        "parser.add_argument('--y', type = int, required = True, help = \"Second number\")\n",
        "parser.add_argument('--opt', type = str, required = True, choices = ['add', 'subtract', 'product', 'division'], help = \"Operation\")\n",
        "args = parser.parse_args()\n",
        "if args.opt == 'add':\n",
        "    result = args.x + args.y\n",
        "elif args.opt == 'subtract':\n",
        "    result = args.x - args.y\n",
        "elif args.opt == 'product':\n",
        "    result = args.x * args.y\n",
        "elif args.opt == 'division':\n",
        "    result = args.x / args.y\n",
        "print(\"Result is: \", result)"
      ],
      "metadata": {
        "colab": {
          "base_uri": "https://localhost:8080/",
          "height": 196
        },
        "id": "dNPVjf6qFpQz",
        "outputId": "194478fc-32d2-4f36-f9c7-d7358a47e49c"
      },
      "execution_count": 12,
      "outputs": [
        {
          "output_type": "stream",
          "name": "stderr",
          "text": [
            "usage: colab_kernel_launcher.py [-h] --x X --y Y --opt\n",
            "                                {add,subtract,product,division}\n",
            "colab_kernel_launcher.py: error: the following arguments are required: --x, --y, --opt\n"
          ]
        },
        {
          "output_type": "error",
          "ename": "SystemExit",
          "evalue": "2",
          "traceback": [
            "An exception has occurred, use %tb to see the full traceback.\n",
            "\u001b[0;31mSystemExit\u001b[0m\u001b[0;31m:\u001b[0m 2\n"
          ]
        },
        {
          "output_type": "stream",
          "name": "stderr",
          "text": [
            "/usr/local/lib/python3.11/dist-packages/IPython/core/interactiveshell.py:3561: UserWarning: To exit: use 'exit', 'quit', or Ctrl-D.\n",
            "  warn(\"To exit: use 'exit', 'quit', or Ctrl-D.\", stacklevel=1)\n"
          ]
        }
      ]
    },
    {
      "cell_type": "code",
      "source": [],
      "metadata": {
        "id": "KpYXuqJRFq-5"
      },
      "execution_count": null,
      "outputs": []
    }
  ]
}